{
 "cells": [
  {
   "cell_type": "code",
   "execution_count": null,
   "id": "3b10fe9c",
   "metadata": {},
   "outputs": [],
   "source": [
    "!pip install numpy"
   ]
  },
  {
   "cell_type": "code",
   "execution_count": 3,
   "id": "bac8ff33",
   "metadata": {},
   "outputs": [
    {
     "name": "stdout",
     "output_type": "stream",
     "text": [
      "<module 'numpy' from 'C:\\\\Users\\\\DEEPAK OLI\\\\anaconda3\\\\Lib\\\\site-packages\\\\numpy\\\\__init__.py'>\n"
     ]
    }
   ],
   "source": [
    "import numpy as np\n",
    "print(np)"
   ]
  },
  {
   "cell_type": "code",
   "execution_count": 2,
   "id": "96eddf5f",
   "metadata": {},
   "outputs": [
    {
     "data": {
      "text/plain": [
       "'\\nDescription:\\n- This line slices a portion of a NumPy array.\\nParameters:\\n- 2: Start index (inclusive).\\n- 4: End index (exclusive).\\nProcess:\\n- Slicing selects elements from index 2 up to index 4 (excluding index 4).\\nReturned Value:\\n- arr_slice: Sliced portion of the NumPy array.\\n'"
      ]
     },
     "execution_count": 2,
     "metadata": {},
     "output_type": "execute_result"
    }
   ],
   "source": [
    "import numpy as np\n",
    "\n",
    "# Creating a NumPy array from a list\n",
    "arr = np.array([1, 2, 3, 4, 5])\n",
    "\"\"\"\n",
    "Description:\n",
    "- This line creates a NumPy array from a Python list.\n",
    "Parameters:\n",
    "- [1, 2, 3, 4, 5]: List containing elements of the array.\n",
    "Process:\n",
    "- The np.array() function creates a NumPy array from the provided list.\n",
    "Returned Value:\n",
    "- arr: NumPy array containing elements [1, 2, 3, 4, 5].\n",
    "\"\"\"\n",
    "\n",
    "# Creating a NumPy array with specified range\n",
    "arr_range = np.arange(1, 6)\n",
    "\"\"\"\n",
    "Description:\n",
    "- This line creates a NumPy array with elements within a specified range.\n",
    "Parameters:\n",
    "- 1: Start of the range (inclusive).\n",
    "- 6: End of the range (exclusive).\n",
    "Process:\n",
    "- The np.arange() function creates a NumPy array with elements from 1 to 5.\n",
    "Returned Value:\n",
    "- arr_range: NumPy array containing elements [1, 2, 3, 4, 5].\n",
    "\"\"\"\n",
    "\n",
    "# Reshaping a NumPy array\n",
    "arr_reshaped = arr_range.reshape(5, 1)\n",
    "\"\"\"\n",
    "Description:\n",
    "- This line reshapes a NumPy array into a different shape.\n",
    "Parameters:\n",
    "- 5: Number of rows.\n",
    "- 1: Number of columns.\n",
    "Process:\n",
    "- The reshape() method reshapes the array into a 5x1 matrix.\n",
    "Returned Value:\n",
    "- arr_reshaped: NumPy array reshaped into a 5x1 matrix.\n",
    "\"\"\"\n",
    "\n",
    "# Transposing a NumPy array\n",
    "arr_transposed = arr_reshaped.T\n",
    "\"\"\"\n",
    "Description:\n",
    "- This line transposes a NumPy array.\n",
    "Parameters:\n",
    "- None.\n",
    "Process:\n",
    "- The T attribute transposes the array, swapping rows and columns.\n",
    "Returned Value:\n",
    "- arr_transposed: Transposed NumPy array.\n",
    "\"\"\"\n",
    "\n",
    "# Performing element-wise operations\n",
    "arr_squared = arr_range ** 2\n",
    "\"\"\"\n",
    "Description:\n",
    "- This line performs element-wise squaring of a NumPy array.\n",
    "Parameters:\n",
    "- None.\n",
    "Process:\n",
    "- The ** operator squares each element of the array.\n",
    "Returned Value:\n",
    "- arr_squared: NumPy array with elements squared.\n",
    "\"\"\"\n",
    "\n",
    "# Calculating the sum of elements\n",
    "arr_sum = np.sum(arr_range)\n",
    "\"\"\"\n",
    "Description:\n",
    "- This line calculates the sum of elements in a NumPy array.\n",
    "Parameters:\n",
    "- None.\n",
    "Process:\n",
    "- The np.sum() function computes the sum of all elements in the array.\n",
    "Returned Value:\n",
    "- arr_sum: Sum of elements in the NumPy array.\n",
    "\"\"\"\n",
    "\n",
    "# Finding the maximum value\n",
    "arr_max = np.max(arr_range)\n",
    "\"\"\"\n",
    "Description:\n",
    "- This line finds the maximum value in a NumPy array.\n",
    "Parameters:\n",
    "- None.\n",
    "Process:\n",
    "- The np.max() function finds the maximum value in the array.\n",
    "Returned Value:\n",
    "- arr_max: Maximum value in the NumPy array.\n",
    "\"\"\"\n",
    "\n",
    "# Finding the index of the maximum value\n",
    "arr_argmax = np.argmax(arr_range)\n",
    "\"\"\"\n",
    "Description:\n",
    "- This line finds the index of the maximum value in a NumPy array.\n",
    "Parameters:\n",
    "- None.\n",
    "Process:\n",
    "- The np.argmax() function finds the index of the maximum value in the array.\n",
    "Returned Value:\n",
    "- arr_argmax: Index of the maximum value in the NumPy array.\n",
    "\"\"\"\n",
    "\n",
    "# Slicing a NumPy array\n",
    "arr_slice = arr_range[2:4]\n",
    "\"\"\"\n",
    "Description:\n",
    "- This line slices a portion of a NumPy array.\n",
    "Parameters:\n",
    "- 2: Start index (inclusive).\n",
    "- 4: End index (exclusive).\n",
    "Process:\n",
    "- Slicing selects elements from index 2 up to index 4 (excluding index 4).\n",
    "Returned Value:\n",
    "- arr_slice: Sliced portion of the NumPy array.\n",
    "\"\"\"\n"
   ]
  },
  {
   "cell_type": "code",
   "execution_count": 6,
   "id": "6b5984c6",
   "metadata": {},
   "outputs": [
    {
     "name": "stdout",
     "output_type": "stream",
     "text": [
      "1\n",
      "1\n",
      "2\n",
      "3\n",
      "1\n",
      "2\n",
      "3\n"
     ]
    }
   ],
   "source": [
    "np1 = np.array([1,3])\n",
    "\n",
    "\n",
    "np2 = np.array([[1,2,3],[1,2,3]])\n",
    "\n",
    "for i in range(len(np2)):\n",
    "    for j in range(len(np2[0])):\n",
    "        print(np2[i][j])\n",
    "    \n"
   ]
  },
  {
   "cell_type": "code",
   "execution_count": null,
   "id": "44b8cdb0",
   "metadata": {},
   "outputs": [],
   "source": []
  }
 ],
 "metadata": {
  "kernelspec": {
   "display_name": "Python 3 (ipykernel)",
   "language": "python",
   "name": "python3"
  },
  "language_info": {
   "codemirror_mode": {
    "name": "ipython",
    "version": 3
   },
   "file_extension": ".py",
   "mimetype": "text/x-python",
   "name": "python",
   "nbconvert_exporter": "python",
   "pygments_lexer": "ipython3",
   "version": "3.11.5"
  }
 },
 "nbformat": 4,
 "nbformat_minor": 5
}
