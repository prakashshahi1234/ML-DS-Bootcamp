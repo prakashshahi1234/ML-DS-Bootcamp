{
 "cells": [
  {
   "cell_type": "code",
   "execution_count": 1,
   "id": "3b10fe9c",
   "metadata": {},
   "outputs": [
    {
     "name": "stdout",
     "output_type": "stream",
     "text": [
      "Requirement already satisfied: numpy in c:\\users\\deepak oli\\anaconda3\\lib\\site-packages (1.24.3)\n"
     ]
    }
   ],
   "source": [
    "!pip install numpy"
   ]
  },
  {
   "cell_type": "code",
   "execution_count": 2,
   "id": "bac8ff33",
   "metadata": {},
   "outputs": [
    {
     "name": "stdout",
     "output_type": "stream",
     "text": [
      "<module 'numpy' from 'C:\\\\Users\\\\DEEPAK OLI\\\\anaconda3\\\\Lib\\\\site-packages\\\\numpy\\\\__init__.py'>\n"
     ]
    }
   ],
   "source": [
    "import numpy as np\n",
    "print(np)"
   ]
  },
  {
   "cell_type": "code",
   "execution_count": 3,
   "id": "96eddf5f",
   "metadata": {},
   "outputs": [
    {
     "data": {
      "text/plain": [
       "'\\nDescription:\\n- This line slices a portion of a NumPy array.\\nParameters:\\n- 2: Start index (inclusive).\\n- 4: End index (exclusive).\\nProcess:\\n- Slicing selects elements from index 2 up to index 4 (excluding index 4).\\nReturned Value:\\n- arr_slice: Sliced portion of the NumPy array.\\n'"
      ]
     },
     "execution_count": 3,
     "metadata": {},
     "output_type": "execute_result"
    }
   ],
   "source": [
    "import numpy as np\n",
    "\n",
    "# Creating a NumPy array from a list\n",
    "arr = np.array([1, 2, 3, 4, 5])\n",
    "\"\"\"\n",
    "Description:\n",
    "- This line creates a NumPy array from a Python list.\n",
    "Parameters:\n",
    "- [1, 2, 3, 4, 5]: List containing elements of the array.\n",
    "Process:\n",
    "- The np.array() function creates a NumPy array from the provided list.\n",
    "Returned Value:\n",
    "- arr: NumPy array containing elements [1, 2, 3, 4, 5].\n",
    "\"\"\"\n",
    "\n",
    "# Creating a NumPy array with specified range\n",
    "arr_range = np.arange(1, 6)\n",
    "\"\"\"\n",
    "Description:\n",
    "- This line creates a NumPy array with elements within a specified range.\n",
    "Parameters:\n",
    "- 1: Start of the range (inclusive).\n",
    "- 6: End of the range (exclusive).\n",
    "Process:\n",
    "- The np.arange() function creates a NumPy array with elements from 1 to 5.\n",
    "Returned Value:\n",
    "- arr_range: NumPy array containing elements [1, 2, 3, 4, 5].\n",
    "\"\"\"\n",
    "\n",
    "# Reshaping a NumPy array\n",
    "arr_reshaped = arr_range.reshape(5, 1)\n",
    "\"\"\"\n",
    "Description:\n",
    "- This line reshapes a NumPy array into a different shape.\n",
    "Parameters:\n",
    "- 5: Number of rows.\n",
    "- 1: Number of columns.\n",
    "Process:\n",
    "- The reshape() method reshapes the array into a 5x1 matrix.\n",
    "Returned Value:\n",
    "- arr_reshaped: NumPy array reshaped into a 5x1 matrix.\n",
    "\"\"\"\n",
    "\n",
    "# Transposing a NumPy array\n",
    "arr_transposed = arr_reshaped.T\n",
    "\"\"\"\n",
    "Description:\n",
    "- This line transposes a NumPy array.\n",
    "Parameters:\n",
    "- None.\n",
    "Process:\n",
    "- The T attribute transposes the array, swapping rows and columns.\n",
    "Returned Value:\n",
    "- arr_transposed: Transposed NumPy array.\n",
    "\"\"\"\n",
    "\n",
    "# Performing element-wise operations\n",
    "arr_squared = arr_range ** 2\n",
    "\"\"\"\n",
    "Description:\n",
    "- This line performs element-wise squaring of a NumPy array.\n",
    "Parameters:\n",
    "- None.\n",
    "Process:\n",
    "- The ** operator squares each element of the array.\n",
    "Returned Value:\n",
    "- arr_squared: NumPy array with elements squared.\n",
    "\"\"\"\n",
    "\n",
    "# Calculating the sum of elements\n",
    "arr_sum = np.sum(arr_range)\n",
    "\"\"\"\n",
    "Description:\n",
    "- This line calculates the sum of elements in a NumPy array.\n",
    "Parameters:\n",
    "- None.\n",
    "Process:\n",
    "- The np.sum() function computes the sum of all elements in the array.\n",
    "Returned Value:\n",
    "- arr_sum: Sum of elements in the NumPy array.\n",
    "\"\"\"\n",
    "\n",
    "# Finding the maximum value\n",
    "arr_max = np.max(arr_range)\n",
    "\"\"\"\n",
    "Description:\n",
    "- This line finds the maximum value in a NumPy array.\n",
    "Parameters:\n",
    "- None.\n",
    "Process:\n",
    "- The np.max() function finds the maximum value in the array.\n",
    "Returned Value:\n",
    "- arr_max: Maximum value in the NumPy array.\n",
    "\"\"\"\n",
    "\n",
    "# Finding the index of the maximum value\n",
    "arr_argmax = np.argmax(arr_range)\n",
    "\"\"\"\n",
    "Description:\n",
    "- This line finds the index of the maximum value in a NumPy array.\n",
    "Parameters:\n",
    "- None.\n",
    "Process:\n",
    "- The np.argmax() function finds the index of the maximum value in the array.\n",
    "Returned Value:\n",
    "- arr_argmax: Index of the maximum value in the NumPy array.\n",
    "\"\"\"\n",
    "\n",
    "# Slicing a NumPy array\n",
    "arr_slice = arr_range[2:4]\n",
    "\"\"\"\n",
    "Description:\n",
    "- This line slices a portion of a NumPy array.\n",
    "Parameters:\n",
    "- 2: Start index (inclusive).\n",
    "- 4: End index (exclusive).\n",
    "Process:\n",
    "- Slicing selects elements from index 2 up to index 4 (excluding index 4).\n",
    "Returned Value:\n",
    "- arr_slice: Sliced portion of the NumPy array.\n",
    "\"\"\"\n"
   ]
  },
  {
   "cell_type": "code",
   "execution_count": 4,
   "id": "6b5984c6",
   "metadata": {},
   "outputs": [
    {
     "name": "stdout",
     "output_type": "stream",
     "text": [
      "1\n",
      "2\n",
      "3\n",
      "1\n",
      "2\n",
      "3\n"
     ]
    }
   ],
   "source": [
    "np1 = np.array([1,3])\n",
    "\n",
    "\n",
    "\n",
    "np2 = np.array([[1,2,3],[1,2,3]])\n",
    "for i in range(len(np2)):\n",
    "    for j in range(len(np2[0])):\n",
    "        print(np2[i][j])\n",
    "    \n"
   ]
  },
  {
   "cell_type": "code",
   "execution_count": 5,
   "id": "74d53ac5",
   "metadata": {},
   "outputs": [
    {
     "name": "stdout",
     "output_type": "stream",
     "text": [
      "[0. 0. 0. 0. 0.]\n"
     ]
    }
   ],
   "source": [
    "print(np.zeros(5))"
   ]
  },
  {
   "cell_type": "code",
   "execution_count": 6,
   "id": "0a871016",
   "metadata": {},
   "outputs": [
    {
     "name": "stdout",
     "output_type": "stream",
     "text": [
      "[1. 1. 1. 1. 1.]\n"
     ]
    }
   ],
   "source": [
    "print(np.ones(5))"
   ]
  },
  {
   "cell_type": "code",
   "execution_count": 5,
   "id": "9acf8e48",
   "metadata": {},
   "outputs": [
    {
     "name": "stdout",
     "output_type": "stream",
     "text": [
      "[[-339132808      32767  665042640]\n",
      " [       654  665043360        654]\n",
      " [ 665040320        654 1935764768]]\n"
     ]
    }
   ],
   "source": [
    "import numpy as np\n",
    "print(\n",
    "np.empty((3,3), dtype=int, order='C'))\n",
    "\n"
   ]
  },
  {
   "cell_type": "code",
   "execution_count": 8,
   "id": "b8671106",
   "metadata": {
    "scrolled": false
   },
   "outputs": [
    {
     "name": "stdout",
     "output_type": "stream",
     "text": [
      "[0 1 2 3 4 5 6 7 8 9]\n"
     ]
    }
   ],
   "source": [
    "print(np.arange(10\n",
    "              ))"
   ]
  },
  {
   "cell_type": "code",
   "execution_count": 9,
   "id": "4f399ac9",
   "metadata": {},
   "outputs": [
    {
     "name": "stdout",
     "output_type": "stream",
     "text": [
      "[ 2  8 14 20 26 32 38 44 50 56 62 68 74 80 86 92 98]\n"
     ]
    },
    {
     "data": {
      "text/plain": [
       "numpy.ndarray"
      ]
     },
     "execution_count": 9,
     "metadata": {},
     "output_type": "execute_result"
    }
   ],
   "source": [
    "print(np.arange(2,100,6))\n",
    "type(np.array([1]))\n"
   ]
  },
  {
   "cell_type": "code",
   "execution_count": 1,
   "id": "b41df81a",
   "metadata": {},
   "outputs": [
    {
     "ename": "NameError",
     "evalue": "name 'array1_2d' is not defined",
     "output_type": "error",
     "traceback": [
      "\u001b[1;31m---------------------------------------------------------------------------\u001b[0m",
      "\u001b[1;31mNameError\u001b[0m                                 Traceback (most recent call last)",
      "Cell \u001b[1;32mIn[1], line 11\u001b[0m\n\u001b[0;32m      4\u001b[0m array2 \u001b[38;5;241m=\u001b[39m np\u001b[38;5;241m.\u001b[39marray([\u001b[38;5;241m4\u001b[39m, \u001b[38;5;241m5\u001b[39m, \u001b[38;5;241m6\u001b[39m])\n\u001b[0;32m      6\u001b[0m \u001b[38;5;66;03m# Reshape arrays into 2D arrays with one row each\u001b[39;00m\n\u001b[0;32m      7\u001b[0m \u001b[38;5;66;03m# array1_2d = np.expand_dims(array1, axis=0)\u001b[39;00m\n\u001b[0;32m      8\u001b[0m \u001b[38;5;66;03m# array2_2d = np.expand_dims(array2, axis=0)\u001b[39;00m\n\u001b[0;32m      9\u001b[0m \n\u001b[0;32m     10\u001b[0m \u001b[38;5;66;03m# Concatenate along axis 0 (rows)\u001b[39;00m\n\u001b[1;32m---> 11\u001b[0m result \u001b[38;5;241m=\u001b[39m np\u001b[38;5;241m.\u001b[39mconcatenate((array1_2d, array2_2d))\n\u001b[0;32m     13\u001b[0m \u001b[38;5;28mprint\u001b[39m(result)\n",
      "\u001b[1;31mNameError\u001b[0m: name 'array1_2d' is not defined"
     ]
    }
   ],
   "source": [
    "import numpy as np\n",
    "\n",
    "array1 = np.array([1, 2, 3])\n",
    "array2 = np.array([4, 5, 6])\n",
    "\n",
    "# Reshape arrays into 2D arrays with one row each\n",
    "# array1_2d = np.expand_dims(array1, axis=0)\n",
    "# array2_2d = np.expand_dims(array2, axis=0)\n",
    "\n",
    "# Concatenate along axis 0 (rows)\n",
    "result = np.concatenate((array1, array2_2d))\n",
    "\n",
    "print(result)\n"
   ]
  },
  {
   "cell_type": "code",
   "execution_count": 30,
   "id": "ec796746",
   "metadata": {},
   "outputs": [
    {
     "name": "stdout",
     "output_type": "stream",
     "text": [
      "3\n",
      "18\n",
      "(2, 3, 3)\n",
      "[[ 1  2  3  2  3  4]\n",
      " [ 6  7  8  1  2  3]\n",
      " [ 1  2  4  1 24  3]]\n"
     ]
    }
   ],
   "source": [
    "np2 = np.array([\n",
    "                [[1,2,3],[2,3,4],[6,7,8]],\n",
    "                [[1,2,3],[1,2,4],[1,24,3]]\n",
    "              ]\n",
    "            )\n",
    "\n",
    "print(np2.ndim)\n",
    "print(np2.size)\n",
    "print(np2.shape)    \n",
    "print(np2.reshape(3,6 ))"
   ]
  },
  {
   "cell_type": "code",
   "execution_count": null,
   "id": "4c868c5f",
   "metadata": {},
   "outputs": [],
   "source": [
    "#creating an array\n",
    "arr = np.array([1,2,3,4,4])\n",
    "np.save(\"array\" , arr)\n",
    "loaded=np.load(\"array.npy\")\n",
    "print(loaded)\n",
    "\n",
    "\n",
    "\n"
   ]
  },
  {
   "cell_type": "code",
   "execution_count": null,
   "id": "b5271e00",
   "metadata": {},
   "outputs": [],
   "source": [
    "#insall pandas library\n",
    "#\n",
    "\n",
    "#save it as csvp :: pd.to_csv(\"filename.csv\")\n",
    "#read csv :: pd.read_csv(\"filename\")"
   ]
  },
  {
   "cell_type": "code",
   "execution_count": null,
   "id": "3ee31493",
   "metadata": {},
   "outputs": [],
   "source": [
    "!pip install pandas"
   ]
  },
  {
   "cell_type": "code",
   "execution_count": 12,
   "id": "d19bff3d",
   "metadata": {},
   "outputs": [
    {
     "name": "stdout",
     "output_type": "stream",
     "text": [
      "   0  1  2\n",
      "0  1  2  3\n",
      "1  4  5  6\n"
     ]
    }
   ],
   "source": [
    "import pandas as pd\n",
    "arr = np.array([[1,2,3],[4,5,6]])\n",
    "df = pd.DataFrame(arr)\n",
    "print(df)"
   ]
  },
  {
   "cell_type": "code",
   "execution_count": 13,
   "id": "c4136147",
   "metadata": {},
   "outputs": [],
   "source": [
    "df.to_csv(\"data1.csv\")"
   ]
  },
  {
   "cell_type": "code",
   "execution_count": 17,
   "id": "1b298ae8",
   "metadata": {},
   "outputs": [
    {
     "data": {
      "text/html": [
       "<div>\n",
       "<style scoped>\n",
       "    .dataframe tbody tr th:only-of-type {\n",
       "        vertical-align: middle;\n",
       "    }\n",
       "\n",
       "    .dataframe tbody tr th {\n",
       "        vertical-align: top;\n",
       "    }\n",
       "\n",
       "    .dataframe thead th {\n",
       "        text-align: right;\n",
       "    }\n",
       "</style>\n",
       "<table border=\"1\" class=\"dataframe\">\n",
       "  <thead>\n",
       "    <tr style=\"text-align: right;\">\n",
       "      <th></th>\n",
       "      <th>Name</th>\n",
       "      <th>Age</th>\n",
       "    </tr>\n",
       "  </thead>\n",
       "  <tbody>\n",
       "    <tr>\n",
       "      <th>0</th>\n",
       "      <td>Alice</td>\n",
       "      <td>25</td>\n",
       "    </tr>\n",
       "    <tr>\n",
       "      <th>1</th>\n",
       "      <td>Bob</td>\n",
       "      <td>30</td>\n",
       "    </tr>\n",
       "    <tr>\n",
       "      <th>2</th>\n",
       "      <td>Charlie</td>\n",
       "      <td>35</td>\n",
       "    </tr>\n",
       "    <tr>\n",
       "      <th>3</th>\n",
       "      <td>David</td>\n",
       "      <td>40</td>\n",
       "    </tr>\n",
       "    <tr>\n",
       "      <th>4</th>\n",
       "      <td>Emma</td>\n",
       "      <td>28</td>\n",
       "    </tr>\n",
       "    <tr>\n",
       "      <th>5</th>\n",
       "      <td>Frank</td>\n",
       "      <td>45</td>\n",
       "    </tr>\n",
       "    <tr>\n",
       "      <th>6</th>\n",
       "      <td>Grace</td>\n",
       "      <td>33</td>\n",
       "    </tr>\n",
       "    <tr>\n",
       "      <th>7</th>\n",
       "      <td>Henry</td>\n",
       "      <td>50</td>\n",
       "    </tr>\n",
       "    <tr>\n",
       "      <th>8</th>\n",
       "      <td>Isabella</td>\n",
       "      <td>27</td>\n",
       "    </tr>\n",
       "    <tr>\n",
       "      <th>9</th>\n",
       "      <td>Jack</td>\n",
       "      <td>32</td>\n",
       "    </tr>\n",
       "    <tr>\n",
       "      <th>10</th>\n",
       "      <td>Kate</td>\n",
       "      <td>39</td>\n",
       "    </tr>\n",
       "    <tr>\n",
       "      <th>11</th>\n",
       "      <td>Liam</td>\n",
       "      <td>42</td>\n",
       "    </tr>\n",
       "    <tr>\n",
       "      <th>12</th>\n",
       "      <td>Mia</td>\n",
       "      <td>29</td>\n",
       "    </tr>\n",
       "    <tr>\n",
       "      <th>13</th>\n",
       "      <td>Nathan</td>\n",
       "      <td>38</td>\n",
       "    </tr>\n",
       "    <tr>\n",
       "      <th>14</th>\n",
       "      <td>Olivia</td>\n",
       "      <td>31</td>\n",
       "    </tr>\n",
       "    <tr>\n",
       "      <th>15</th>\n",
       "      <td>Peter</td>\n",
       "      <td>36</td>\n",
       "    </tr>\n",
       "    <tr>\n",
       "      <th>16</th>\n",
       "      <td>Quinn</td>\n",
       "      <td>43</td>\n",
       "    </tr>\n",
       "    <tr>\n",
       "      <th>17</th>\n",
       "      <td>Rachel</td>\n",
       "      <td>26</td>\n",
       "    </tr>\n",
       "    <tr>\n",
       "      <th>18</th>\n",
       "      <td>Samuel</td>\n",
       "      <td>37</td>\n",
       "    </tr>\n",
       "  </tbody>\n",
       "</table>\n",
       "</div>"
      ],
      "text/plain": [
       "        Name  Age\n",
       "0      Alice   25\n",
       "1        Bob   30\n",
       "2    Charlie   35\n",
       "3      David   40\n",
       "4       Emma   28\n",
       "5      Frank   45\n",
       "6      Grace   33\n",
       "7      Henry   50\n",
       "8   Isabella   27\n",
       "9       Jack   32\n",
       "10      Kate   39\n",
       "11      Liam   42\n",
       "12       Mia   29\n",
       "13    Nathan   38\n",
       "14    Olivia   31\n",
       "15     Peter   36\n",
       "16     Quinn   43\n",
       "17    Rachel   26\n",
       "18    Samuel   37"
      ]
     },
     "execution_count": 17,
     "metadata": {},
     "output_type": "execute_result"
    }
   ],
   "source": [
    "read = pd.read_csv('data.csv')\n",
    "newDf = pd.DataFrame(read)\n",
    "newDf\n",
    "\n",
    "\n",
    "\n",
    "\n"
   ]
  },
  {
   "cell_type": "code",
   "execution_count": null,
   "id": "d4f74e05",
   "metadata": {},
   "outputs": [],
   "source": []
  }
 ],
 "metadata": {
  "kernelspec": {
   "display_name": "Python 3 (ipykernel)",
   "language": "python",
   "name": "python3"
  },
  "language_info": {
   "codemirror_mode": {
    "name": "ipython",
    "version": 3
   },
   "file_extension": ".py",
   "mimetype": "text/x-python",
   "name": "python",
   "nbconvert_exporter": "python",
   "pygments_lexer": "ipython3",
   "version": "3.11.5"
  }
 },
 "nbformat": 4,
 "nbformat_minor": 5
}
