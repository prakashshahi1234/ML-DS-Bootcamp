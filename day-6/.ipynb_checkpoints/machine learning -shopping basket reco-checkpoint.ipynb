{
 "cells": [
  {
   "cell_type": "code",
   "execution_count": 29,
   "id": "d3e57b34",
   "metadata": {},
   "outputs": [
    {
     "name": "stdout",
     "output_type": "stream",
     "text": [
      "               userId   productId  rating   timestamp\n",
      "99995   A9Q7GF7UFZVFC  B00005K47X     5.0  1364169600\n",
      "99996  A33WGUJ5IIWHLM  B00005K47X     5.0  1403049600\n",
      "99997  A29LU2ANHQ8O78  B00005K47X     5.0  1353801600\n",
      "99998   AHRBJ3XW7JXW6  B00005K47X     5.0  1356134400\n",
      "99999  A2ID2FS73N3T83  B00005K47X     5.0  1375228800\n"
     ]
    }
   ],
   "source": [
    "import numpy as  np\n",
    "import pandas as pd\n",
    "import matplotlib.pyplot as plt\n",
    "\n",
    "ele_set = pd.read_csv(\"electronic.csv\", names=['userId' , 'productId','rating','timestamp'])\n",
    "ele_set = ele_set.head(500000)\n",
    "# print(ele_set.describe())\n",
    "# print(ele_set.info())\n",
    "print(ele_set.tail())\n"
   ]
  },
  {
   "cell_type": "code",
   "execution_count": 21,
   "id": "f94b82bc",
   "metadata": {},
   "outputs": [
    {
     "name": "stdout",
     "output_type": "stream",
     "text": [
      "            userId   productId  rating   timestamp\n",
      "11  A1DA3W4GTFXP6O  0528881469     5.0  1405641600\n",
      "12  A29LPQQDG7LD5J  0528881469     1.0  1352073600\n",
      "13   AO94DHGC771SJ  0528881469     5.0  1370131200\n",
      "14   AMO214LNFCEI4  0528881469     1.0  1290643200\n",
      "15  A28B1G1MSJ6OO1  0528881469     4.0  1280016000\n",
      "16  A3N7T0DY83Y4IG  0528881469     3.0  1283990400\n",
      "17  A1H8PY3QHMQQA0  0528881469     2.0  1290556800\n",
      "18   A2CPBQ5W4OGBX  0528881469     2.0  1277078400\n",
      "19  A265MKAR2WEH3Y  0528881469     4.0  1294790400\n",
      "20  A37K02NKUIT68K  0528881469     5.0  1293235200\n"
     ]
    }
   ],
   "source": [
    "print(ele_set.head(21)[11:21])"
   ]
  },
  {
   "cell_type": "code",
   "execution_count": 26,
   "id": "200a89ca",
   "metadata": {},
   "outputs": [
    {
     "name": "stdout",
     "output_type": "stream",
     "text": [
      "            userId   productId  rating   timestamp\n",
      "11  A1DA3W4GTFXP6O  0528881469     5.0  1405641600\n",
      "12  A29LPQQDG7LD5J  0528881469     1.0  1352073600\n",
      "13   AO94DHGC771SJ  0528881469     5.0  1370131200\n",
      "14   AMO214LNFCEI4  0528881469     1.0  1290643200\n",
      "15  A28B1G1MSJ6OO1  0528881469     4.0  1280016000\n",
      "16  A3N7T0DY83Y4IG  0528881469     3.0  1283990400\n",
      "17  A1H8PY3QHMQQA0  0528881469     2.0  1290556800\n",
      "18   A2CPBQ5W4OGBX  0528881469     2.0  1277078400\n",
      "19  A265MKAR2WEH3Y  0528881469     4.0  1294790400\n",
      "20  A37K02NKUIT68K  0528881469     5.0  1293235200\n"
     ]
    }
   ],
   "source": [
    "\n",
    "print(ele_set.iloc[11:21])"
   ]
  },
  {
   "cell_type": "code",
   "execution_count": 31,
   "id": "0f16cf4d",
   "metadata": {},
   "outputs": [
    {
     "name": "stdout",
     "output_type": "stream",
     "text": [
      "               userId   productId  rating   timestamp\n",
      "0       AKM1MP6P0OYPR  0132793040     5.0  1365811200\n",
      "1      A2CX7LUOHB2NDG  0321732944     5.0  1341100800\n",
      "2      A2NWSAGRHCP8N5  0439886341     1.0  1367193600\n",
      "3      A2WNBOD3WNDNKT  0439886341     3.0  1374451200\n",
      "4      A1GI0U4ZRJA8WN  0439886341     1.0  1334707200\n",
      "...               ...         ...     ...         ...\n",
      "99995   A9Q7GF7UFZVFC  B00005K47X     5.0  1364169600\n",
      "99996  A33WGUJ5IIWHLM  B00005K47X     5.0  1403049600\n",
      "99997  A29LU2ANHQ8O78  B00005K47X     5.0  1353801600\n",
      "99998   AHRBJ3XW7JXW6  B00005K47X     5.0  1356134400\n",
      "99999  A2ID2FS73N3T83  B00005K47X     5.0  1375228800\n",
      "\n",
      "[100000 rows x 4 columns]\n"
     ]
    }
   ],
   "source": [
    "print(ele_set.iloc[:100000,0:])"
   ]
  },
  {
   "cell_type": "code",
   "execution_count": null,
   "id": "a8e47ad3",
   "metadata": {},
   "outputs": [],
   "source": [
    " "
   ]
  }
 ],
 "metadata": {
  "kernelspec": {
   "display_name": "Python 3 (ipykernel)",
   "language": "python",
   "name": "python3"
  },
  "language_info": {
   "codemirror_mode": {
    "name": "ipython",
    "version": 3
   },
   "file_extension": ".py",
   "mimetype": "text/x-python",
   "name": "python",
   "nbconvert_exporter": "python",
   "pygments_lexer": "ipython3",
   "version": "3.11.5"
  }
 },
 "nbformat": 4,
 "nbformat_minor": 5
}
