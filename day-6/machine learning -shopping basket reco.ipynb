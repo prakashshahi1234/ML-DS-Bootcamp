{
 "cells": [
  {
   "cell_type": "code",
   "execution_count": 1,
   "id": "d9fcf1d1",
   "metadata": {},
   "outputs": [
    {
     "name": "stdout",
     "output_type": "stream",
     "text": [
      "                userId   productId  rating   timestamp\n",
      "499995  A3KQAUAGWQLJ3E  B0002OZXHO     4.0  1098144000\n",
      "499996  A2NFFW6WDXBVZ8  B0002OZXHO     4.0  1137196800\n",
      "499997  A1QEUB3ABULQOG  B0002OZXHO     4.0  1111104000\n",
      "499998  A2OYA4KEWWMORF  B0002OZXHO     5.0  1110672000\n",
      "499999  A2TQJ6GJCNPVGA  B0002OZXHO     5.0  1107388800\n"
     ]
    }
   ],
   "source": [
    "import numpy as  np\n",
    "import pandas as pd\n",
    "import matplotlib.pyplot as plt\n",
    "\n",
    "ele_set = pd.read_csv(\"electronic.csv\", names=['userId' , 'productId','rating','timestamp'])\n",
    "ele_set = ele_set.head(500000)\n",
    "# print(ele_set.describe())\n",
    "# print(ele_set.info())\n",
    "print(ele_set.tail())\n"
   ]
  },
  {
   "cell_type": "code",
   "execution_count": 2,
   "id": "d0eea605",
   "metadata": {},
   "outputs": [
    {
     "name": "stdout",
     "output_type": "stream",
     "text": [
      "            userId   productId  rating   timestamp\n",
      "11  A1DA3W4GTFXP6O  0528881469     5.0  1405641600\n",
      "12  A29LPQQDG7LD5J  0528881469     1.0  1352073600\n",
      "13   AO94DHGC771SJ  0528881469     5.0  1370131200\n",
      "14   AMO214LNFCEI4  0528881469     1.0  1290643200\n",
      "15  A28B1G1MSJ6OO1  0528881469     4.0  1280016000\n",
      "16  A3N7T0DY83Y4IG  0528881469     3.0  1283990400\n",
      "17  A1H8PY3QHMQQA0  0528881469     2.0  1290556800\n",
      "18   A2CPBQ5W4OGBX  0528881469     2.0  1277078400\n",
      "19  A265MKAR2WEH3Y  0528881469     4.0  1294790400\n",
      "20  A37K02NKUIT68K  0528881469     5.0  1293235200\n"
     ]
    }
   ],
   "source": [
    "print(ele_set.head(21)[11:21])"
   ]
  },
  {
   "cell_type": "code",
   "execution_count": 3,
   "id": "7c6271c6",
   "metadata": {},
   "outputs": [
    {
     "name": "stdout",
     "output_type": "stream",
     "text": [
      "            userId   productId  rating   timestamp\n",
      "11  A1DA3W4GTFXP6O  0528881469     5.0  1405641600\n",
      "12  A29LPQQDG7LD5J  0528881469     1.0  1352073600\n",
      "13   AO94DHGC771SJ  0528881469     5.0  1370131200\n",
      "14   AMO214LNFCEI4  0528881469     1.0  1290643200\n",
      "15  A28B1G1MSJ6OO1  0528881469     4.0  1280016000\n",
      "16  A3N7T0DY83Y4IG  0528881469     3.0  1283990400\n",
      "17  A1H8PY3QHMQQA0  0528881469     2.0  1290556800\n",
      "18   A2CPBQ5W4OGBX  0528881469     2.0  1277078400\n",
      "19  A265MKAR2WEH3Y  0528881469     4.0  1294790400\n",
      "20  A37K02NKUIT68K  0528881469     5.0  1293235200\n"
     ]
    }
   ],
   "source": [
    "\n",
    "print(ele_set.iloc[11:21])"
   ]
  },
  {
   "cell_type": "code",
   "execution_count": 4,
   "id": "1d7a302a",
   "metadata": {},
   "outputs": [
    {
     "name": "stdout",
     "output_type": "stream",
     "text": [
      "        productId\n",
      "0      0132793040\n",
      "1      0321732944\n",
      "2      0439886341\n",
      "3      0439886341\n",
      "4      0439886341\n",
      "...           ...\n",
      "99995  B00005K47X\n",
      "99996  B00005K47X\n",
      "99997  B00005K47X\n",
      "99998  B00005K47X\n",
      "99999  B00005K47X\n",
      "\n",
      "[100000 rows x 1 columns]\n"
     ]
    }
   ],
   "source": [
    "print(ele_set.iloc[:100000,1:2])"
   ]
  },
  {
   "cell_type": "code",
   "execution_count": 5,
   "id": "e87e6b62",
   "metadata": {},
   "outputs": [
    {
     "data": {
      "text/plain": [
       "userId        object\n",
       "productId     object\n",
       "rating       float64\n",
       "timestamp      int64\n",
       "dtype: object"
      ]
     },
     "execution_count": 5,
     "metadata": {},
     "output_type": "execute_result"
    }
   ],
   "source": [
    " ele_set.dtypes"
   ]
  },
  {
   "cell_type": "code",
   "execution_count": 6,
   "id": "c898254b",
   "metadata": {},
   "outputs": [
    {
     "name": "stdout",
     "output_type": "stream",
     "text": [
      "The maximum rating is :  5.0 \n",
      "The minimum rating is :  1.0\n"
     ]
    }
   ],
   "source": [
    "print('The maximum rating is : ',ele_set['rating'].max(),\"\\nThe minimum rating is : \", ele_set['rating'].min() )"
   ]
  },
  {
   "cell_type": "code",
   "execution_count": 7,
   "id": "2e0b4761",
   "metadata": {},
   "outputs": [
    {
     "name": "stdout",
     "output_type": "stream",
     "text": [
      "userId  :  404347\n",
      "productId  :  30667\n",
      "rating :  500000\n",
      "timestamp  :  5489\n"
     ]
    }
   ],
   "source": [
    "for obj in ele_set:\n",
    "    \n",
    "    if(obj  =='rating'):\n",
    "        print(\"rating : \",ele_set[obj].shape[0])\n",
    "        continue\n",
    "    \n",
    "    print(obj ,\" : \",len(np.unique(ele_set[obj])))\n"
   ]
  },
  {
   "cell_type": "code",
   "execution_count": 8,
   "id": "5b9e452d",
   "metadata": {},
   "outputs": [
    {
     "name": "stdout",
     "output_type": "stream",
     "text": [
      "           userId   productId  rating\n",
      "0   AKM1MP6P0OYPR  0132793040     5.0\n",
      "1  A2CX7LUOHB2NDG  0321732944     5.0\n",
      "2  A2NWSAGRHCP8N5  0439886341     1.0\n",
      "3  A2WNBOD3WNDNKT  0439886341     3.0\n",
      "4  A1GI0U4ZRJA8WN  0439886341     1.0\n"
     ]
    }
   ],
   "source": [
    "data = ele_set.drop('timestamp', axis=1).head()\n",
    "print(data)"
   ]
  },
  {
   "cell_type": "code",
   "execution_count": 9,
   "id": "761cbb38",
   "metadata": {},
   "outputs": [
    {
     "name": "stdout",
     "output_type": "stream",
     "text": [
      "userId\n",
      "A5JLAU2ARJ0BO     296\n",
      "A231WM2Z2JL0U3    247\n",
      "A25HBO5V8S8SEA    155\n",
      "AKT8TGIT6VVZ5      86\n",
      "AT6CZDCP4TRGA      79\n",
      "Name: productId, dtype: int64\n"
     ]
    }
   ],
   "source": [
    "data = ele_set.groupby('userId')['productId'].count().sort_values(ascending=False)\n",
    "\n",
    "print(data.head())\n"
   ]
  },
  {
   "cell_type": "code",
   "execution_count": 10,
   "id": "d92504fc",
   "metadata": {},
   "outputs": [
    {
     "name": "stdout",
     "output_type": "stream",
     "text": [
      "productId\n",
      "B0002L5R78    42204.0\n",
      "B0001FTVEK    21418.0\n",
      "B00007E7JU    16086.0\n",
      "B00004ZCJE    10503.0\n",
      "B00007M1TZ    10371.0\n",
      "Name: rating, dtype: float64\n"
     ]
    }
   ],
   "source": [
    "product_ = ele_set.groupby('productId')['rating'].sum().sort_values(ascending=False)\n",
    "print(product_.head())"
   ]
  },
  {
   "cell_type": "code",
   "execution_count": 11,
   "id": "449d4133",
   "metadata": {},
   "outputs": [
    {
     "name": "stdout",
     "output_type": "stream",
     "text": [
      "rating\n",
      "5.0    273141\n",
      "4.0     97751\n",
      "1.0     60597\n",
      "3.0     39178\n",
      "2.0     29333\n",
      "Name: userId, dtype: int64\n"
     ]
    }
   ],
   "source": [
    "product_ = ele_set.groupby('rating')['userId'].count().sort_values(ascending=False)\n",
    "print(product_.head())"
   ]
  },
  {
   "cell_type": "code",
   "execution_count": 17,
   "id": "cd527076",
   "metadata": {},
   "outputs": [
    {
     "name": "stdout",
     "output_type": "stream",
     "text": [
      "Collecting surpriseNote: you may need to restart the kernel to use updated packages.\n",
      "\n",
      "  Using cached surprise-0.1-py2.py3-none-any.whl (1.8 kB)\n",
      "Requirement already satisfied: scikit-surprise in c:\\users\\deepak oli\\anaconda3\\lib\\site-packages (from surprise) (1.1.3)\n",
      "Requirement already satisfied: joblib>=1.0.0 in c:\\users\\deepak oli\\anaconda3\\lib\\site-packages (from scikit-surprise->surprise) (1.2.0)\n",
      "Requirement already satisfied: numpy>=1.17.3 in c:\\users\\deepak oli\\anaconda3\\lib\\site-packages (from scikit-surprise->surprise) (1.24.3)\n",
      "Requirement already satisfied: scipy>=1.3.2 in c:\\users\\deepak oli\\anaconda3\\lib\\site-packages (from scikit-surprise->surprise) (1.11.1)\n",
      "Installing collected packages: surprise\n",
      "Successfully installed surprise-0.1\n"
     ]
    }
   ],
   "source": [
    "pip install surprise \n"
   ]
  },
  {
   "cell_type": "code",
   "execution_count": 18,
   "id": "edbb2b7b",
   "metadata": {},
   "outputs": [],
   "source": [
    "import surprise\n",
    "\n",
    "from surprise import accuracy\n",
    "from surprise import Reader\n",
    "from sklearn.metric.pairwise import  cosine_similarity\n",
    "from sklearn.neighbours import NearestNeighbours\n",
    "import joblib\n",
    "import scipy.sparse\n",
    "from scipy.sparse"
   ]
  },
  {
   "cell_type": "code",
   "execution_count": null,
   "id": "2c91a596",
   "metadata": {},
   "outputs": [],
   "source": []
  }
 ],
 "metadata": {
  "kernelspec": {
   "display_name": "Python 3 (ipykernel)",
   "language": "python",
   "name": "python3"
  },
  "language_info": {
   "codemirror_mode": {
    "name": "ipython",
    "version": 3
   },
   "file_extension": ".py",
   "mimetype": "text/x-python",
   "name": "python",
   "nbconvert_exporter": "python",
   "pygments_lexer": "ipython3",
   "version": "3.11.5"
  }
 },
 "nbformat": 4,
 "nbformat_minor": 5
}
