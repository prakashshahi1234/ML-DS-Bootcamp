{
 "cells": [
  {
   "cell_type": "markdown",
   "id": "2a7e1f22",
   "metadata": {},
   "source": [
    "#### Prime number testing. "
   ]
  },
  {
   "cell_type": "code",
   "execution_count": 3,
   "id": "16cb6a5d",
   "metadata": {
    "scrolled": false
   },
   "outputs": [
    {
     "name": "stdout",
     "output_type": "stream",
     "text": [
      "True\n",
      "False\n",
      "46\n"
     ]
    }
   ],
   "source": [
    "import prime\n",
    "print(prime.isPrime(13))\n",
    "print(prime.isPrime(100))\n",
    "print(len(prime.prime(1,200)))"
   ]
  },
  {
   "cell_type": "markdown",
   "id": "5d4cf01f",
   "metadata": {},
   "source": [
    "#### Even number checking\n"
   ]
  },
  {
   "cell_type": "code",
   "execution_count": 4,
   "id": "1761aed8",
   "metadata": {},
   "outputs": [
    {
     "name": "stdout",
     "output_type": "stream",
     "text": [
      "True\n",
      "False\n",
      "[10, 12, 14, 16, 18, 20, 22, 24, 26, 28, 30, 32, 34, 36, 38, 40, 42, 44, 46, 48, 50, 52, 54, 56, 58, 60, 62, 64, 66, 68, 70, 72, 74, 76, 78, 80, 82, 84, 86, 88, 90, 92, 94, 96, 98, 100]\n"
     ]
    }
   ],
   "source": [
    "import even\n",
    "print(even.isEven(4))\n",
    "print(even.isEven(5))\n",
    "print(even.even(10,100))"
   ]
  },
  {
   "cell_type": "markdown",
   "id": "676d4815",
   "metadata": {},
   "source": [
    "### Odd Number checking"
   ]
  },
  {
   "cell_type": "code",
   "execution_count": 3,
   "id": "d47983f4",
   "metadata": {},
   "outputs": [
    {
     "name": "stdout",
     "output_type": "stream",
     "text": [
      "False\n",
      "True\n",
      "[1, 3, 5, 7, 9, 11, 13, 15, 17, 19, 21, 23, 25, 27, 29, 31, 33, 35, 37, 39, 41, 43, 45, 47, 49, 51, 53, 55, 57, 59, 61, 63, 65, 67, 69, 71, 73, 75, 77, 79, 81, 83, 85, 87, 89, 91, 93, 95, 97, 99]\n"
     ]
    }
   ],
   "source": [
    "import odd\n",
    "print(odd.isOdd(4))\n",
    "print(odd.isOdd(5))\n",
    "print(odd.odd(1,100))"
   ]
  },
  {
   "cell_type": "markdown",
   "id": "dff3f9bf",
   "metadata": {},
   "source": [
    "#### Factorial Checking"
   ]
  },
  {
   "cell_type": "code",
   "execution_count": 11,
   "id": "db929ca8",
   "metadata": {
    "scrolled": true
   },
   "outputs": [
    {
     "name": "stdout",
     "output_type": "stream",
     "text": [
      "120\n"
     ]
    }
   ],
   "source": [
    "import factorial\n",
    "print(factorial.fact(5))\n",
    "\n"
   ]
  },
  {
   "cell_type": "markdown",
   "id": "7f2591e0",
   "metadata": {},
   "source": [
    "<h3>String slicing</h3>\n"
   ]
  },
  {
   "cell_type": "code",
   "execution_count": 13,
   "id": "4601f6e5",
   "metadata": {},
   "outputs": [
    {
     "data": {
      "text/plain": [
       "'va'"
      ]
     },
     "execution_count": 13,
     "metadata": {},
     "output_type": "execute_result"
    }
   ],
   "source": [
    "sirName= 'Devasis'\n",
    "sirName[2:4]"
   ]
  },
  {
   "cell_type": "code",
   "execution_count": 21,
   "id": "2fc22523",
   "metadata": {},
   "outputs": [
    {
     "name": "stdout",
     "output_type": "stream",
     "text": [
      "[1, 2, 3, 4, 5]\n",
      "[1, 2, 3, 4, 5]\n"
     ]
    }
   ],
   "source": [
    "list_default = [1,2,3,4,5]\n",
    "list_con =list([1,2,3,4,5])\n",
    "\n",
    "print(list_default)\n",
    "print(list_con)"
   ]
  },
  {
   "cell_type": "markdown",
   "id": "5fab2901",
   "metadata": {},
   "source": [
    "#### Tuple and List\n"
   ]
  },
  {
   "cell_type": "code",
   "execution_count": 9,
   "id": "7fc09190",
   "metadata": {},
   "outputs": [
    {
     "name": "stdout",
     "output_type": "stream",
     "text": [
      "[1, 2, 3, 4]\n",
      "[1, 2, 3, 4]\n",
      "after alteration the list became :  [1, 2, 3, 4, 100]\n",
      "after deletion is :  [2, 3, 4, 100]\n"
     ]
    }
   ],
   "source": [
    "listDefault = [1,2,3,4]\n",
    "listConstructor = list([1,2,3,4])\n",
    "print(listDefault)\n",
    "print(listConstructor)\n",
    "\n",
    "#modificaton:: mutable\n",
    "listDefault.append(100)\n",
    "print(\"after alteration the list became : \",listDefault)\n",
    "listDefault.remove(1)\n",
    "print(\"after deletion is : \", listDefault)"
   ]
  },
  {
   "cell_type": "markdown",
   "id": "37364a65",
   "metadata": {},
   "source": [
    "#### Tuple\n"
   ]
  },
  {
   "cell_type": "code",
   "execution_count": 11,
   "id": "786603ce",
   "metadata": {},
   "outputs": [
    {
     "name": "stdout",
     "output_type": "stream",
     "text": [
      "(1, 2, 3, 4)\n",
      "(1, 2, 3, 4)\n"
     ]
    },
    {
     "ename": "AttributeError",
     "evalue": "'tuple' object has no attribute 'append'",
     "output_type": "error",
     "traceback": [
      "\u001b[1;31m---------------------------------------------------------------------------\u001b[0m",
      "\u001b[1;31mAttributeError\u001b[0m                            Traceback (most recent call last)",
      "Cell \u001b[1;32mIn[11], line 7\u001b[0m\n\u001b[0;32m      4\u001b[0m \u001b[38;5;28mprint\u001b[39m(tupleCon)\n\u001b[0;32m      6\u001b[0m \u001b[38;5;66;03m#modification\u001b[39;00m\n\u001b[1;32m----> 7\u001b[0m tuple1\u001b[38;5;241m.\u001b[39mappend(\u001b[38;5;241m1\u001b[39m)\n\u001b[0;32m      8\u001b[0m \u001b[38;5;28mprint\u001b[39m(\u001b[38;5;124m\"\u001b[39m\u001b[38;5;124mvalue of tuple1 after removal is  \u001b[39m\u001b[38;5;124m\"\u001b[39m, tuple1)\n",
      "\u001b[1;31mAttributeError\u001b[0m: 'tuple' object has no attribute 'append'"
     ]
    }
   ],
   "source": [
    "tuple1 = (1,2,3,4)\n",
    "tupleCon = tuple((1,2,3,4))\n",
    "print(tuple1)\n",
    "print(tupleCon)\n",
    "\n",
    "#modification :: modification is not possible :: thats why it is immutable.\n",
    "tuple1.append(1)\n",
    "print(\"value of tuple1 after removal is  \", tuple1)"
   ]
  },
  {
   "cell_type": "code",
   "execution_count": null,
   "id": "2cd55e4c",
   "metadata": {},
   "outputs": [],
   "source": []
  }
 ],
 "metadata": {
  "kernelspec": {
   "display_name": "Python 3 (ipykernel)",
   "language": "python",
   "name": "python3"
  },
  "language_info": {
   "codemirror_mode": {
    "name": "ipython",
    "version": 3
   },
   "file_extension": ".py",
   "mimetype": "text/x-python",
   "name": "python",
   "nbconvert_exporter": "python",
   "pygments_lexer": "ipython3",
   "version": "3.11.5"
  }
 },
 "nbformat": 4,
 "nbformat_minor": 5
}
