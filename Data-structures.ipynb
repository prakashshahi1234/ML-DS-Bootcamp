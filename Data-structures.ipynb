{
 "cells": [
  {
   "cell_type": "markdown",
   "id": "04ffbddb-0d07-4d95-9616-c6680e893385",
   "metadata": {},
   "source": [
    "# <font color='289C4E'>Data structures<font><a class='anchor' id='top'></a>\n",
    "### <font color='blue'>Series<font><a class='anchor' id='top'></a>\n",
    "- [Array-like](#1)\n",
    "- [Dictionary](#2)\n",
    "- [Scalar](#3)\n",
    "- [Series is similar to array](#4)\n",
    "- [Series is similar to dictionary](#5)\n",
    "- [Name attribute](#6)\n",
    "### <font color='blue'>DataFrame<font><a class='anchor' id='top'></a>\n",
    "- [From dict of Series or dicts](#1)\n",
    "- [From dict of array-likes](#2)\n",
    "- [From a list of dicts](#3)\n",
    "- [From a dict of tuples](#4)\n",
    "- [From a Series](#5)"
   ]
  },
  {
   "cell_type": "markdown",
   "id": "b1abd9ed-90a5-421b-ab8a-2585e0553e41",
   "metadata": {},
   "source": [
    "## <font color='289C4E'>Data structures<font><a class='anchor' id='top'></a>\n",
    "Pandas operates with three basic datastructures: Series, DataFrame, and Panel. There are extensions to this list, but for the purposes of this material even the first two are more than enough.\n",
    "\n",
    "We start by importing NumPy and Pandas using their conventional short names:\n",
    "\n"
   ]
  },
  {
   "cell_type": "code",
   "execution_count": 1,
   "id": "6734fc88-fa0a-42b8-acdc-2307c5f7854d",
   "metadata": {},
   "outputs": [
    {
     "name": "stdout",
     "output_type": "stream",
     "text": [
      "Requirement already satisfied: numpy in c:\\users\\deepak oli\\anaconda3\\lib\\site-packages (1.24.3)\n",
      "Note: you may need to restart the kernel to use updated packages.\n"
     ]
    }
   ],
   "source": [
    "pip install numpy"
   ]
  },
  {
   "cell_type": "code",
   "execution_count": 2,
   "id": "dedfdc67-da46-4a66-8fc0-c9562f9eec3d",
   "metadata": {
    "scrolled": true
   },
   "outputs": [
    {
     "name": "stdout",
     "output_type": "stream",
     "text": [
      "Requirement already satisfied: pandas in c:\\users\\deepak oli\\anaconda3\\lib\\site-packages (2.0.3)\n",
      "Requirement already satisfied: python-dateutil>=2.8.2 in c:\\users\\deepak oli\\anaconda3\\lib\\site-packages (from pandas) (2.8.2)\n",
      "Requirement already satisfied: pytz>=2020.1 in c:\\users\\deepak oli\\anaconda3\\lib\\site-packages (from pandas) (2023.3.post1)\n",
      "Requirement already satisfied: tzdata>=2022.1 in c:\\users\\deepak oli\\anaconda3\\lib\\site-packages (from pandas) (2023.3)\n",
      "Requirement already satisfied: numpy>=1.21.0 in c:\\users\\deepak oli\\anaconda3\\lib\\site-packages (from pandas) (1.24.3)\n",
      "Requirement already satisfied: six>=1.5 in c:\\users\\deepak oli\\anaconda3\\lib\\site-packages (from python-dateutil>=2.8.2->pandas) (1.16.0)\n",
      "Note: you may need to restart the kernel to use updated packages.\n"
     ]
    }
   ],
   "source": [
    "pip install pandas"
   ]
  },
  {
   "cell_type": "code",
   "execution_count": 3,
   "id": "04eeb45f-fc10-4dd9-b9de-4d9ce23e757f",
   "metadata": {},
   "outputs": [],
   "source": [
    "import numpy as np"
   ]
  },
  {
   "cell_type": "code",
   "execution_count": 4,
   "id": "124e73e6-9531-43bb-808c-d7c30293a810",
   "metadata": {},
   "outputs": [],
   "source": [
    "import pandas as pd"
   ]
  },
  {
   "cell_type": "markdown",
   "id": "43439b3c-baf1-4339-a50c-82a15e01ec1a",
   "metadata": {},
   "source": [
    "## <font color='blue'>Series<font><a class='anchor' id='top'></a>\n",
    "Series is a one-dimensional labeled array capable of holding any data type (integers, strings, floating point numbers, Python objects, etc.). The axis labels are collectively referred to as the index. The basic method to create a Series is to call:\n",
    "\n",
    " s = Series(data, index=index)"
   ]
  },
  {
   "cell_type": "markdown",
   "id": "242efa40-3275-4629-bd5d-a3e630850242",
   "metadata": {},
   "source": [
    "The first mandatory argument can be\n",
    "\n",
    "- array-like\n",
    "- dictionary\n",
    "- scalar"
   ]
  },
  {
   "cell_type": "code",
   "execution_count": 5,
   "id": "9817fca0-fc9e-484e-bbda-b7c4fe6334b3",
   "metadata": {},
   "outputs": [
    {
     "name": "stdout",
     "output_type": "stream",
     "text": [
      "hari      91\n",
      "Givina    82\n",
      "Shyam     93\n",
      "Gita      94\n",
      "dtype: object\n"
     ]
    }
   ],
   "source": [
    "marks=['91','82','93','94']\n",
    "name =[\"hari\",\"Givina\",\"Shyam\",\"Gita\"]\n",
    "student = pd.Series(marks, index=name)\n",
    "print(student)"
   ]
  },
  {
   "cell_type": "markdown",
   "id": "2da473f7-313a-4ef9-8919-b80d3ed31749",
   "metadata": {},
   "source": [
    "### Array-like\n",
    "If data is an array-like, index must be the same length as data. If no index is passed, one will be created having values [0, ..., len(data) - 1]."
   ]
  },
  {
   "cell_type": "code",
   "execution_count": null,
   "id": "41a9ac25-2bb6-4015-8d19-e082ddf25b3f",
   "metadata": {},
   "outputs": [],
   "source": []
  },
  {
   "cell_type": "code",
   "execution_count": 6,
   "id": "3e7db34d-5c98-4ee7-8be5-2fcaa869bbd8",
   "metadata": {},
   "outputs": [],
   "source": [
    "randn = np.random.rand # To shorten notation in the code that follows"
   ]
  },
  {
   "cell_type": "code",
   "execution_count": null,
   "id": "26a151ed-7e7b-45f8-ae3e-2a32bff24858",
   "metadata": {},
   "outputs": [],
   "source": [
    "s = pd.Series(randn(5), index=['a', 'b', 'c', 'd', 'e'])\n",
    "s"
   ]
  },
  {
   "cell_type": "code",
   "execution_count": null,
   "id": "ca4f6615-7053-403d-9d47-cbd74bda91d4",
   "metadata": {},
   "outputs": [],
   "source": [
    "s.index"
   ]
  },
  {
   "cell_type": "code",
   "execution_count": null,
   "id": "0bad1175-d74e-412a-8398-6ec8d8633a10",
   "metadata": {},
   "outputs": [],
   "source": [
    "pd.Series(randn(5))"
   ]
  },
  {
   "cell_type": "markdown",
   "id": "07bbf249-a16d-4607-b224-aff45114f1a5",
   "metadata": {},
   "source": [
    "### Dictionary\n",
    "Dictionaries already have a natural candidate for the index, so passing the index separately seems redundant, although possible.\n",
    "\n"
   ]
  },
  {
   "cell_type": "code",
   "execution_count": null,
   "id": "fc82b0fa-92c3-4810-9e67-acc37f90d9ee",
   "metadata": {},
   "outputs": [],
   "source": [
    "d = {'a' : 0., 'b' : 1., 'c' : 2.}\n",
    "pd.Series(d)"
   ]
  },
  {
   "cell_type": "code",
   "execution_count": null,
   "id": "3d25d997-a6e0-4eb7-a18e-99546e43b089",
   "metadata": {},
   "outputs": [],
   "source": [
    "pd.Series(d, index=['b', 'c', 'd', 'a'])"
   ]
  },
  {
   "cell_type": "markdown",
   "id": "95265772-3ea4-49bf-9d9f-bdb113f3aab3",
   "metadata": {},
   "source": [
    "### Scalar\n",
    "If data is a scalar value, an index must be provided. The value will be repeated to match the length of index.\n",
    "\n"
   ]
  },
  {
   "cell_type": "code",
   "execution_count": null,
   "id": "da33d498-120e-48e0-aeae-63b3bf3303eb",
   "metadata": {},
   "outputs": [],
   "source": [
    "pd.Series(5., index=['a', 'b', 'c', 'd', 'e'])"
   ]
  },
  {
   "cell_type": "markdown",
   "id": "baada565-8614-4c64-859c-59b12eaebd32",
   "metadata": {},
   "source": [
    "### Series is similar to array\n",
    "Slicing and other operations on Series produce very similar results to those on array but with a twist. Index is also sliced and always remain a part of a data container."
   ]
  },
  {
   "cell_type": "code",
   "execution_count": null,
   "id": "558ed052-47d0-4d6b-a35f-99b8ef75fdae",
   "metadata": {},
   "outputs": [],
   "source": [
    "s[1]"
   ]
  },
  {
   "cell_type": "code",
   "execution_count": null,
   "id": "bb597771-be3c-4945-ab09-66fb8221391f",
   "metadata": {},
   "outputs": [],
   "source": [
    "s[:4]"
   ]
  },
  {
   "cell_type": "code",
   "execution_count": null,
   "id": "8b3326b5-eed2-4ccf-be37-c707c35b6034",
   "metadata": {},
   "outputs": [],
   "source": [
    "s[s > s.median()]"
   ]
  },
  {
   "cell_type": "code",
   "execution_count": null,
   "id": "4772e61b-6a3c-4e17-aa10-62ab8c4f232b",
   "metadata": {},
   "outputs": [],
   "source": [
    "s[[4, 3, 1]]"
   ]
  },
  {
   "cell_type": "markdown",
   "id": "ba9e2b46-2062-460d-845a-42b6c170ab2e",
   "metadata": {},
   "source": [
    "Similarly to NumPy arrays, Series can be used to speed up loops by using vectorization."
   ]
  },
  {
   "cell_type": "code",
   "execution_count": null,
   "id": "8378ed41-9f63-4731-9975-619575e593c4",
   "metadata": {},
   "outputs": [],
   "source": [
    "s + s"
   ]
  },
  {
   "cell_type": "code",
   "execution_count": null,
   "id": "432c6e28-7ba9-443e-aada-4ede0b4b35ad",
   "metadata": {},
   "outputs": [],
   "source": [
    "s * 2"
   ]
  },
  {
   "cell_type": "code",
   "execution_count": null,
   "id": "4b4fb40b-464c-44e1-bdbb-6751145e6a9b",
   "metadata": {},
   "outputs": [],
   "source": [
    "np.exp(s)"
   ]
  },
  {
   "cell_type": "markdown",
   "id": "9bb22cc6-9d33-4a1c-90e6-6c46d3ebddf2",
   "metadata": {},
   "source": [
    "A key difference between Series and array is that operations between Series automatically align the data based on label. Thus, you can write computations without giving consideration to whether the Series involved have the same labels."
   ]
  },
  {
   "cell_type": "code",
   "execution_count": null,
   "id": "936e8fef-59f9-4001-a05e-c4bda1b0d654",
   "metadata": {},
   "outputs": [],
   "source": [
    "s[1:] + s[:-1]"
   ]
  },
  {
   "cell_type": "markdown",
   "id": "2c2710ae-d08e-4501-80c4-0527a029cf3b",
   "metadata": {},
   "source": [
    "The result of an operation between unaligned Series will have the union of the indexes involved. If a label is not found in one Series or the other, the result will be marked as missing NaN. Being able to write code without doing any explicit data alignment grants immense freedom and flexibility in interactive data analysis and research. The integrated data alignment features of the pandas data structures set pandas apart from the majority of related tools for working with labeled data."
   ]
  },
  {
   "cell_type": "markdown",
   "id": "fe96ddfc-f029-47f0-987f-85bb8bba86f0",
   "metadata": {},
   "source": [
    "### Series is similar to dictionary\n",
    "A few examples to illustrate the heading."
   ]
  },
  {
   "cell_type": "code",
   "execution_count": null,
   "id": "96ca93f7-d9b6-4a8e-b492-e93a19f2dfdb",
   "metadata": {},
   "outputs": [],
   "source": [
    "s['a']"
   ]
  },
  {
   "cell_type": "code",
   "execution_count": null,
   "id": "468f78a4-6b3d-4fb2-88eb-b72ebf03bb4c",
   "metadata": {},
   "outputs": [],
   "source": [
    "s['e'] = 12."
   ]
  },
  {
   "cell_type": "code",
   "execution_count": null,
   "id": "c8631471-36d6-4f0b-9f62-b0cfd207f101",
   "metadata": {},
   "outputs": [],
   "source": [
    "s"
   ]
  },
  {
   "cell_type": "code",
   "execution_count": null,
   "id": "1afafeae-2987-4b3f-9264-f9e4bdb6a41c",
   "metadata": {},
   "outputs": [],
   "source": [
    "'e' in s"
   ]
  },
  {
   "cell_type": "code",
   "execution_count": null,
   "id": "710f4d30-d036-42f1-ba35-57e7e1dd0b1f",
   "metadata": {},
   "outputs": [],
   "source": [
    "'f' in s"
   ]
  },
  {
   "cell_type": "markdown",
   "id": "12175ac1-a490-4808-8f49-3d8d8f68c30f",
   "metadata": {},
   "source": [
    "### Name attribute\n",
    "Series can also have a name attribute which will become very useful when summarizing data with tables and plots.\n",
    "\n"
   ]
  },
  {
   "cell_type": "code",
   "execution_count": null,
   "id": "6f3e5b9e-e2ae-42c8-8774-b1b8f61fd60c",
   "metadata": {},
   "outputs": [],
   "source": [
    "s = pd.Series(np.random.randn(5),index=[\"a\",\"b\",\"c\",\"d\",\"e\"], name='random series')\n",
    "s"
   ]
  },
  {
   "cell_type": "code",
   "execution_count": null,
   "id": "ba422ecc-375f-4bbd-8771-3f79c2c18f18",
   "metadata": {},
   "outputs": [],
   "source": [
    "s.name"
   ]
  },
  {
   "cell_type": "markdown",
   "id": "bf5afe81-0ded-42f9-9b1c-8727bc33ffd7",
   "metadata": {},
   "source": [
    "### <font color='blue'>DataFrame<font><a class='anchor' id='top'></a>\n",
    "DataFrame is a 2-dimensional labeled data structure with columns of potentially different types. Like Series, DataFrame accepts many different kinds of input:\n",
    "\n",
    "- Dict of 1D ndarrays, lists, dicts, or Series\n",
    "- 2-D numpy.ndarray\n",
    "- A Series\n",
    "- Another DataFrame\n",
    "\n",
    "Along with the data, you can optionally pass index (row labels) and columns (column labels) arguments. If you pass an index and / or columns, you are guaranteeing the index and / or columns of the resulting DataFrame. Thus, a dict of Series plus a specific index will discard all data not matching up to the passed index.\n",
    "\n",
    "If axis labels are not passed, they will be constructed from the input data based on common sense rules.\n",
    "\n",
    "### From dict of Series or dicts\n",
    "The result index will be the union of the indexes of the various Series. If there are any nested dicts, these will be first converted to Series. If no columns are passed, the columns will be the sorted list of dict keys."
   ]
  },
  {
   "cell_type": "code",
   "execution_count": null,
   "id": "7a5fe2e5-b9b1-421c-890b-957aee45baac",
   "metadata": {},
   "outputs": [],
   "source": [
    "data={\n",
    "    'name':pd.Series([\"ram\", \"Gopal\",\"Krishna\"], index=[1,2,3]),\n",
    "    'age':pd.Series([\"21\", \"31\", \"29\"],index=[1,2,3]),\n",
    "    'city':pd.Series([\"Kathmandu\",\"Surkhet\",\"Nepaljung\"], index=[1,2,3])\n",
    "}\n",
    "df=pd.DataFrame(data)\n",
    "df"
   ]
  },
  {
   "cell_type": "code",
   "execution_count": null,
   "id": "7cc412f9-547a-4569-9745-91ba4925a33f",
   "metadata": {},
   "outputs": [],
   "source": [
    "d = {'one' : pd.Series([1., 2., 3.], index=['a', 'b', 'c']), \n",
    "     'two' : pd.Series([1., 2., 3., 4.], index=['a', 'b', 'c', 'd'])\n",
    "    }\n",
    "df = pd.DataFrame(d)\n",
    "df"
   ]
  },
  {
   "cell_type": "code",
   "execution_count": null,
   "id": "c0250a22-b4c5-402c-b0f4-b394ce0973fc",
   "metadata": {},
   "outputs": [],
   "source": [
    "pd.DataFrame(d, index=['d', 'b', 'a'])"
   ]
  },
  {
   "cell_type": "code",
   "execution_count": null,
   "id": "381e9883-10b8-481c-be14-772a0d01173a",
   "metadata": {},
   "outputs": [],
   "source": [
    "pd.DataFrame(d, index=['a','d'], columns=['two'])"
   ]
  },
  {
   "cell_type": "code",
   "execution_count": null,
   "id": "231ef855-93e1-4142-8707-cad85aa0a8d4",
   "metadata": {},
   "outputs": [],
   "source": [
    "pd.DataFrame(d, index=['d', 'b', 'a'], columns=['two', 'three'])"
   ]
  },
  {
   "cell_type": "markdown",
   "id": "6e623d5e-f7fd-4ba9-b45a-7b47c47095e6",
   "metadata": {},
   "source": [
    "The row and column labels can be accessed respectively by accessing the index and columns attributes:"
   ]
  },
  {
   "cell_type": "code",
   "execution_count": null,
   "id": "62349179-3485-4d76-9331-21d80290deb2",
   "metadata": {},
   "outputs": [],
   "source": [
    "df.index"
   ]
  },
  {
   "cell_type": "code",
   "execution_count": null,
   "id": "27c511b0-ad7d-4289-8b9c-bed2e932d569",
   "metadata": {},
   "outputs": [],
   "source": [
    "df.columns"
   ]
  },
  {
   "cell_type": "markdown",
   "id": "8e63bfa2-2027-481b-96a3-ffca03e83d5a",
   "metadata": {},
   "source": [
    "## From dict of array-likes\n",
    "The ndarrays must all be the same length. If an index is passed, it must clearly also be the same length as the arrays. If no index is passed, the result will be range(n), where n is the array length."
   ]
  },
  {
   "cell_type": "code",
   "execution_count": null,
   "id": "162f9e21-5b86-43e9-a907-3c0842a4e296",
   "metadata": {},
   "outputs": [],
   "source": [
    "d = {'one' : [1., 2., 3., 4.], 'two' : [4., 3., 2., 1.]}\n",
    "pd.DataFrame(d)"
   ]
  },
  {
   "cell_type": "code",
   "execution_count": null,
   "id": "93c34ba5-305e-4a16-acdd-1d06ac01cd6b",
   "metadata": {},
   "outputs": [],
   "source": [
    "pd.DataFrame(d, index=['a', 'b', 'c', 'd'])"
   ]
  },
  {
   "cell_type": "markdown",
   "id": "c62c5398-8027-4a9b-b4d0-70599037febc",
   "metadata": {},
   "source": [
    "## From a list of dicts"
   ]
  },
  {
   "cell_type": "code",
   "execution_count": null,
   "id": "11948c78-3382-4e2f-9a0f-659821f5fbee",
   "metadata": {},
   "outputs": [],
   "source": [
    "data2 = [{'a': 1, 'b': 2}, {'a': 5, 'b': 10, 'c': 20}]\n",
    "pd.DataFrame(data2)"
   ]
  },
  {
   "cell_type": "code",
   "execution_count": null,
   "id": "ee6a8cb4-2da1-4783-8af3-1acdbdc4e9b1",
   "metadata": {},
   "outputs": [],
   "source": [
    "pd.DataFrame(data2, index=['first', 'second'])"
   ]
  },
  {
   "cell_type": "code",
   "execution_count": null,
   "id": "41fb456d-4bcb-4340-a453-9af672cfe837",
   "metadata": {},
   "outputs": [],
   "source": [
    "pd.DataFrame(data2, columns=['a', 'b'])"
   ]
  },
  {
   "cell_type": "markdown",
   "id": "14a44580-549d-4ed9-941c-7f455add3464",
   "metadata": {},
   "source": [
    "## From a dict of tuples"
   ]
  },
  {
   "cell_type": "code",
   "execution_count": null,
   "id": "fb05ebfd-d886-45a6-a112-a6d212a52a24",
   "metadata": {},
   "outputs": [],
   "source": [
    " pd.DataFrame({('a', 'b'): {('A', 'B'): 1, ('A', 'C'): 2},  ('a', 'a'): {('A', 'C'): 3,\n",
    "                ('A', 'B'): 4},   ('a', 'c'): {('A', 'B'): 5, ('A', 'C'): 6}, \n",
    "               ('b', 'a'): {('A', 'C'): 7, ('A', 'B'): 8},     \n",
    "               ('b', 'b'): {('A', 'D'): 9, ('A', 'B'): 10}})"
   ]
  },
  {
   "cell_type": "markdown",
   "id": "f056f714-ee84-4896-a0f1-5eae50a8bd7d",
   "metadata": {},
   "source": [
    "## From a Series\n",
    "The result will be a DataFrame with the same index as the input Series, and with one column whose name is the original name of the Series (only if no other column name provided)."
   ]
  },
  {
   "cell_type": "code",
   "execution_count": null,
   "id": "55c221e9-5863-4859-9285-4fc47ef275e2",
   "metadata": {},
   "outputs": [],
   "source": []
  }
 ],
 "metadata": {
  "kernelspec": {
   "display_name": "Python 3 (ipykernel)",
   "language": "python",
   "name": "python3"
  },
  "language_info": {
   "codemirror_mode": {
    "name": "ipython",
    "version": 3
   },
   "file_extension": ".py",
   "mimetype": "text/x-python",
   "name": "python",
   "nbconvert_exporter": "python",
   "pygments_lexer": "ipython3",
   "version": "3.11.5"
  }
 },
 "nbformat": 4,
 "nbformat_minor": 5
}
