{
 "cells": [
  {
   "cell_type": "markdown",
   "id": "2f1038c4",
   "metadata": {},
   "source": [
    "In this day we learn about libraries in python, eg: NumPy , Pandas. on top of that we learn basic concept of Ai Ml and DL."
   ]
  },
  {
   "cell_type": "markdown",
   "id": "5f977f16",
   "metadata": {},
   "source": [
    "Introduction to NumPy\n",
    "\n",
    "NumpY is a open source python library for numerical and scientific calculation.It is used in matheamatical , scientific and engineering computation."
   ]
  },
  {
   "cell_type": "code",
   "execution_count": 45,
   "id": "39ef037a",
   "metadata": {},
   "outputs": [],
   "source": [
    "#installation: \n",
    "#pip install numpy"
   ]
  },
  {
   "cell_type": "code",
   "execution_count": 4,
   "id": "2597b022",
   "metadata": {},
   "outputs": [],
   "source": [
    "import numpy as np  # as keyword is used to make a alias of variable ."
   ]
  },
  {
   "cell_type": "code",
   "execution_count": 6,
   "id": "55e68f64",
   "metadata": {},
   "outputs": [
    {
     "data": {
      "text/plain": [
       "'\\nuse array method to create array, here it has following parameter.\\nvalue,\\ndtype\\n\\n\\n'"
      ]
     },
     "execution_count": 6,
     "metadata": {},
     "output_type": "execute_result"
    }
   ],
   "source": [
    "#create a array\n",
    "array = np.array([1,2,3]) \n",
    "\n",
    "\"\"\"\n",
    "use array method to create array, here it has following parameter.\n",
    "value,\n",
    "dtype\n",
    "\"\"\""
   ]
  },
  {
   "cell_type": "code",
   "execution_count": 8,
   "id": "2c6e21eb",
   "metadata": {},
   "outputs": [
    {
     "data": {
      "text/plain": [
       "numpy.ndarray"
      ]
     },
     "execution_count": 8,
     "metadata": {},
     "output_type": "execute_result"
    }
   ],
   "source": [
    "# lets check the type of array.\n",
    "type(array)\n",
    "#ndarray means, n dimensional array"
   ]
  },
  {
   "cell_type": "code",
   "execution_count": 44,
   "id": "52310cd9",
   "metadata": {},
   "outputs": [
    {
     "data": {
      "text/plain": [
       "array([1.32516199e-311+1.32516073e-311j, 6.95329031e-310+1.32516073e-311j,\n",
       "       1.32516073e-311+1.32516199e-311j, 1.32513470e-311+6.95329031e-310j,\n",
       "       1.32515667e-311+1.32513912e-311j, 6.95329031e-310+1.32515668e-311j,\n",
       "       6.95329031e-310+6.95329031e-310j, 6.95329031e-310+6.95329031e-310j,\n",
       "       1.32513470e-311+1.32513470e-311j, 1.32513470e-311+1.32513912e-311j,\n",
       "       1.32513470e-311+1.32515668e-311j, 1.32516073e-311+6.95329031e-310j,\n",
       "       1.32516073e-311+1.32516073e-311j, 1.32515668e-311+1.32516073e-311j,\n",
       "       6.95329031e-310+1.32515667e-311j, 1.32513912e-311+6.95329031e-310j,\n",
       "       6.95329031e-310+6.95329031e-310j, 6.95329031e-310+6.95329031e-310j,\n",
       "       6.95329031e-310+6.95329031e-310j, 6.95329031e-310+6.95329031e-310j,\n",
       "       6.95329031e-310+1.32516073e-311j, 1.32516073e-311+1.32516073e-311j,\n",
       "       1.32513912e-311+1.32516073e-311j, 1.32516171e-311+1.32516777e-311j,\n",
       "       6.95329031e-310+1.32516777e-311j, 1.32516777e-311+1.32516171e-311j,\n",
       "       1.32513470e-311+6.95329031e-310j, 1.32516171e-311+1.32513912e-311j,\n",
       "       6.95329031e-310+1.32516171e-311j, 6.95329031e-310+6.95329031e-310j,\n",
       "       6.95329031e-310+1.32516765e-311j, 1.32513470e-311+1.32513470e-311j,\n",
       "       1.32513470e-311+1.32513912e-311j, 1.32513470e-311+1.32516171e-311j,\n",
       "       1.32516777e-311+6.95329031e-310j, 1.32516777e-311+1.32516777e-311j,\n",
       "       1.32516171e-311+1.32513470e-311j, 6.95329031e-310+1.32516816e-311j,\n",
       "       1.32513913e-311+6.95329031e-310j, 6.95329031e-310+6.95329031e-310j,\n",
       "       6.95329031e-310+6.95329031e-310j, 6.95329031e-310+6.95329031e-310j,\n",
       "       6.95329031e-310+6.95329031e-310j, 6.95329031e-310+6.95329031e-310j,\n",
       "       6.95329031e-310+6.95329031e-310j, 6.95329031e-310+6.95329031e-310j,\n",
       "       6.95329031e-310+6.95329031e-310j, 6.95329031e-310+6.95329031e-310j,\n",
       "       1.32516080e-311+1.32513470e-311j, 1.32513470e-311+1.32513470e-311j,\n",
       "       1.32513913e-311+1.32513470e-311j, 1.32516816e-311+1.32516767e-311j,\n",
       "       6.95329031e-310+1.32516767e-311j, 1.32516767e-311+1.32516816e-311j,\n",
       "       1.32513470e-311+6.95329031e-310j, 1.32516816e-311+1.32513912e-311j,\n",
       "       6.95329031e-310+1.32516816e-311j, 6.95329031e-310+6.95329031e-310j,\n",
       "       6.95329031e-310+1.32516765e-311j, 1.32513470e-311+1.32513470e-311j,\n",
       "       1.32513470e-311+1.32513912e-311j, 1.32513470e-311+1.32516816e-311j,\n",
       "       1.32516772e-311+6.95329031e-310j, 1.32516772e-311+1.32516772e-311j,\n",
       "       1.32516816e-311+1.32513470e-311j, 6.95329031e-310+1.32516816e-311j,\n",
       "       1.32513913e-311+6.95329031e-310j, 6.95329031e-310+6.95329031e-310j,\n",
       "       6.95329031e-310+6.95329031e-310j, 6.95329031e-310+6.95329031e-310j,\n",
       "       6.95329031e-310+6.95329031e-310j, 6.95329031e-310+6.95329031e-310j,\n",
       "       6.95329031e-310+6.95329031e-310j, 6.95329031e-310+6.95329031e-310j,\n",
       "       6.95329031e-310+6.95329031e-310j, 6.95329031e-310+6.95329031e-310j,\n",
       "       6.95329031e-310+6.95329031e-310j, 6.95329031e-310+6.95329031e-310j,\n",
       "       6.95329031e-310+6.95329031e-310j, 6.95329031e-310+6.95329031e-310j,\n",
       "       6.95329031e-310+6.95329031e-310j, 6.95329031e-310+6.95329031e-310j,\n",
       "       1.32516816e-311+6.95329031e-310j, 6.95329031e-310+6.95329031e-310j,\n",
       "       6.95329031e-310+6.95329031e-310j, 6.95329031e-310+6.95329031e-310j,\n",
       "       6.95329031e-310+6.95329031e-310j, 6.95329031e-310+6.95329031e-310j,\n",
       "       6.95329031e-310+6.95329031e-310j, 1.32516779e-311+1.32513470e-311j,\n",
       "       1.32513470e-311+1.32513470e-311j, 1.32513913e-311+1.32513470e-311j,\n",
       "       1.32516816e-311+1.32516367e-311j, 6.95329031e-310+1.32516367e-311j,\n",
       "       1.32516367e-311+1.32516816e-311j, 1.32513470e-311+6.95329031e-310j,\n",
       "       1.32516816e-311+6.95329026e-310j, 6.95329031e-310+1.32516816e-311j,\n",
       "       6.95329031e-310+6.95329031e-310j, 6.95329031e-310+1.32516821e-311j])"
      ]
     },
     "execution_count": 44,
     "metadata": {},
     "output_type": "execute_result"
    }
   ],
   "source": [
    "#some function::\n",
    "# arange\n",
    "rangeArr = np.arange(10) \n",
    "# reshape\n",
    "reshapedArr = rangeArr.reshape(5,2)\n",
    "#zeros \n",
    "zeroArr = np.zeros(100) #it takes size of array and elemnt is zero.\n",
    "likeZerosArr = np.zeros_like([2,3,4,5])  #same as zeros but it takes shape/prototype of arrray.\n",
    "onesArr = np.ones(10) #it takes size of array and element is one.\n",
    "likeOnes = np.ones_like([[1,2,4],[4,5,6],[23,4,5]]) #smae as ones but it takes prototype of array instead size.\n",
    "emptyArr = np.empty(100)\n"
   ]
  },
  {
   "cell_type": "code",
   "execution_count": 19,
   "id": "9c0db3b9",
   "metadata": {},
   "outputs": [
    {
     "data": {
      "text/plain": [
       "10"
      ]
     },
     "execution_count": 19,
     "metadata": {},
     "output_type": "execute_result"
    }
   ],
   "source": [
    "# some properties of array in numpy.\n",
    "reshapedArr.shape #provides shape(row,col) for 2-D (x,y,z) for 3-d and so on.\n",
    "reshapedArr.ndim #it provides dimension 2-D , 3-D and so on.\n",
    "reshapedArr.size \n",
    "# it provides no of total element in array.the size\n",
    "# is equal to the multiplication of all parameter in output of shape, like in 2-D size = rows*col."
   ]
  },
  {
   "cell_type": "code",
   "execution_count": 75,
   "id": "ae3b367b",
   "metadata": {},
   "outputs": [
    {
     "name": "stdout",
     "output_type": "stream",
     "text": [
      "[[10  2 30]\n",
      " [ 4  5  6]]\n",
      "C order:\n",
      " [[10  2 30]\n",
      " [ 4  5  6]]\n",
      "F order:\n",
      " [[10  2 30]\n",
      " [ 4  5  6]]\n"
     ]
    },
    {
     "data": {
      "text/plain": [
       "array([[[10,  2, 30],\n",
       "        [10,  2, 30],\n",
       "        [10,  2, 30]],\n",
       "\n",
       "       [[ 4,  5,  6],\n",
       "        [ 4,  5,  6],\n",
       "        [ 4,  5,  6]]])"
      ]
     },
     "execution_count": 75,
     "metadata": {},
     "output_type": "execute_result"
    }
   ],
   "source": [
    "import numpy as np\n",
    "\n",
    "# Create a 2D array\n",
    "x = np.array([[10, 2, 30],\n",
    "              [4, 5, 6]])\n",
    "print(x)\n",
    "\n",
    "# Casting with 'C' order (row-major)\n",
    "y_c = x.astype(int, order='C')\n",
    "print(\"C order:\\n\", y_c)\n",
    "\n",
    "# Casting with 'F' order (column-major)\n",
    "y_f = x.astype(int, order='F')\n",
    "print(\"F order:\\n\", y_f)\n",
    "\n",
    "atLeast_1d = np.atleast_3d(y_f)\n",
    "atLeast_1d[0][0][0]\n",
    "conc = np.concatenate((x,y_c,y_f), axis=1)\n",
    "\n",
    "\n",
    "conc.shape\n",
    "th = conc.reshape(2,3,3)\n",
    "th"
   ]
  },
  {
   "cell_type": "code",
   "execution_count": 84,
   "id": "1c0e8cfc",
   "metadata": {},
   "outputs": [
    {
     "name": "stdout",
     "output_type": "stream",
     "text": [
      "0    10\n",
      "1     4\n",
      "Name: a, dtype: int32\n",
      "0    2\n",
      "1    5\n",
      "Name: b, dtype: int32\n",
      "0    30\n",
      "1     6\n",
      "Name: c, dtype: int32\n"
     ]
    }
   ],
   "source": [
    "import pandas as pd\n",
    "\n",
    "df= pd.DataFrame(y_f, columns=['a','b','c'])\n",
    "for col in df.columns:\n",
    "    print(df[col])"
   ]
  }
 ],
 "metadata": {
  "kernelspec": {
   "display_name": "Python 3 (ipykernel)",
   "language": "python",
   "name": "python3"
  },
  "language_info": {
   "codemirror_mode": {
    "name": "ipython",
    "version": 3
   },
   "file_extension": ".py",
   "mimetype": "text/x-python",
   "name": "python",
   "nbconvert_exporter": "python",
   "pygments_lexer": "ipython3",
   "version": "3.11.5"
  }
 },
 "nbformat": 4,
 "nbformat_minor": 5
}
