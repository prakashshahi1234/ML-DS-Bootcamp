{
 "cells": [
  {
   "cell_type": "markdown",
   "id": "1ca8ef03",
   "metadata": {},
   "source": [
    "###  Trying  some Libraries[NumPy , Pandas ...] "
   ]
  },
  {
   "cell_type": "code",
   "execution_count": 2,
   "id": "cd117a01",
   "metadata": {},
   "outputs": [],
   "source": [
    "import numpy as np\n",
    "import pandas as pd"
   ]
  },
  {
   "cell_type": "code",
   "execution_count": 3,
   "id": "937b063c",
   "metadata": {},
   "outputs": [
    {
     "name": "stdout",
     "output_type": "stream",
     "text": [
      "Index(['index', 'Date', 'Time', 'Location', 'Operator', 'Flight #', 'Route',\n",
      "       'Type', 'Registration', 'cn/In', 'Aboard', 'Fatalities', 'Ground',\n",
      "       'Summary'],\n",
      "      dtype='object')\n",
      "            index       Aboard   Fatalities       Ground\n",
      "count  5268.00000  5246.000000  5256.000000  5246.000000\n",
      "mean   2633.50000    27.554518    20.068303     1.608845\n",
      "std    1520.88494    43.076711    33.199952    53.987827\n",
      "min       0.00000     0.000000     0.000000     0.000000\n",
      "25%    1316.75000     5.000000     3.000000     0.000000\n",
      "50%    2633.50000    13.000000     9.000000     0.000000\n",
      "75%    3950.25000    30.000000    23.000000     0.000000\n",
      "max    5267.00000   644.000000   583.000000  2750.000000\n",
      "<class 'pandas.core.frame.DataFrame'>\n",
      "RangeIndex: 5268 entries, 0 to 5267\n",
      "Data columns (total 14 columns):\n",
      " #   Column        Non-Null Count  Dtype  \n",
      "---  ------        --------------  -----  \n",
      " 0   index         5268 non-null   int64  \n",
      " 1   Date          5268 non-null   object \n",
      " 2   Time          3049 non-null   object \n",
      " 3   Location      5248 non-null   object \n",
      " 4   Operator      5250 non-null   object \n",
      " 5   Flight #      1069 non-null   object \n",
      " 6   Route         3561 non-null   object \n",
      " 7   Type          5241 non-null   object \n",
      " 8   Registration  4933 non-null   object \n",
      " 9   cn/In         4040 non-null   object \n",
      " 10  Aboard        5246 non-null   float64\n",
      " 11  Fatalities    5256 non-null   float64\n",
      " 12  Ground        5246 non-null   float64\n",
      " 13  Summary       4878 non-null   object \n",
      "dtypes: float64(3), int64(1), object(10)\n",
      "memory usage: 576.3+ KB\n",
      "None\n"
     ]
    }
   ],
   "source": [
    "data_set = pd.read_csv(\"plane_crash.csv\")\n",
    "print((data_set.columns))\n",
    "# print(data_set.head(10))\n",
    "# print(data_set.tail(10))\n",
    "# air_plane = pd.read_csv(\"data-set/ariplane.csv\")\n",
    "# print(air_plane)\n",
    "print(data_set.describe())\n",
    "print(data_set.info())\n",
    "# print(data_set.isnull().sum())\n",
    "# pd.value_counts(data_set['Operator']).plot.bar()\n",
    "\n",
    "# df = pd.DataFrame(data_set.groupby(['Ground','Location']))\n",
    "# print(df)\n",
    "# print(data_set.drop(['Location'], axis=1).head())\n",
    "# print(data_set.columns)\n",
    "# print(data_set.drop(range(0,100), axis=0).head())"
   ]
  },
  {
   "cell_type": "code",
   "execution_count": 23,
   "id": "e6ab82c0",
   "metadata": {},
   "outputs": [],
   "source": [
    "#print(data_set.isnull().sum())"
   ]
  },
  {
   "cell_type": "code",
   "execution_count": 34,
   "id": "0a574feb",
   "metadata": {},
   "outputs": [
    {
     "name": "stdout",
     "output_type": "stream",
     "text": [
      "27.554517727792604\n"
     ]
    }
   ],
   "source": [
    "print(data_set['Aboard'].mean())\n",
    "set = (data_set.drop(['Registration' ,'cn/In' ,'Fatalities' ,'Ground' , 'Summary','Type','Flight #'], axis=1).head(100))"
   ]
  },
  {
   "cell_type": "code",
   "execution_count": 38,
   "id": "de5a80db",
   "metadata": {},
   "outputs": [
    {
     "name": "stdout",
     "output_type": "stream",
     "text": [
      "         index                                      Date  \\\n",
      "Time                                                       \n",
      "00:00     8277  11/15/193407/21/195109/15/198004/19/1985   \n",
      "00:01     1460                                01/06/1957   \n",
      "00:02     2100                                02/07/1967   \n",
      "00:03     1076                                08/31/1950   \n",
      "00:04     3853                                06/29/1989   \n",
      "...        ...                                       ...   \n",
      "c: 1:00    190                                09/03/1929   \n",
      "c: 2:00    228                                11/18/1930   \n",
      "c: 9:40   4838                                01/19/2002   \n",
      "c:09:00   2878                      09/08/193210/21/1972   \n",
      "c:17:00    213                                04/18/1930   \n",
      "\n",
      "                                                  Location  \\\n",
      "Time                                                         \n",
      "00:00    Amazonia, MontanaNear Sitka, AlaskaNear Medina...   \n",
      "00:01                                     Owasso, Oklahoma   \n",
      "00:02                              Albuquerque, New Mexico   \n",
      "00:03                              Near Wadi Natrun, Egypt   \n",
      "00:04                                Cartersville, Georgia   \n",
      "...                                                    ...   \n",
      "c: 1:00                             Mt. Taylor, New Mexico   \n",
      "c: 2:00                   Techachapi Mountains, California   \n",
      "c: 9:40                    Near Milford Sound, New Zealand   \n",
      "c:09:00                Salt Flats, TexasOff Athens, Greece   \n",
      "c:17:00                            Jersey City, New Jersey   \n",
      "\n",
      "                                                  Operator Flight #  \\\n",
      "Time                                                                  \n",
      "00:00    Rapid Air TransportCanadian PacifiAir LinesMil...        0   \n",
      "00:01                                    American Airlines      327   \n",
      "00:02                            Avanti Aviation -Air Taxi        0   \n",
      "00:03                                 Trans World Airlines      903   \n",
      "00:04                                               Calair        0   \n",
      "...                                                    ...      ...   \n",
      "c: 1:00                    Trans Continental Air Transport        0   \n",
      "c: 2:00                                PacifiAir Transport        0   \n",
      "c: 9:40                                      Air Fiordland        -   \n",
      "c:09:00                      American AirwaysOlympiAirways        0   \n",
      "c:17:00                          Canadian Colonial Airways        0   \n",
      "\n",
      "                                                     Route  \\\n",
      "Time                                                         \n",
      "00:00    Omaha, NB - Kansas City, MOVancouver - TokyoTu...   \n",
      "00:01                                      Joplin - Owasso   \n",
      "00:02                                                    0   \n",
      "00:03                                         Cairo - Rome   \n",
      "00:04                    Carterville, GA  - Montgomery, AL   \n",
      "...                                                    ...   \n",
      "c: 1:00                          Albuquerque - Los Angeles   \n",
      "c: 2:00                          Burbank, CA - Oakland, CA   \n",
      "c: 9:40                           Te Anau  - Milford Sound   \n",
      "c:09:00                   El Paso - DallasKerkira - Athens   \n",
      "c:17:00                       Albany, NY - Jersey City, NJ   \n",
      "\n",
      "                                                      Type  \\\n",
      "Time                                                         \n",
      "00:00    Stinson SM-6000-BDouglas C-54ALockheed C-130EC...   \n",
      "00:01                                     Convair CV-240-0   \n",
      "00:02                                        Cessna 210-5A   \n",
      "00:03                          Lockheed 749A Constellation   \n",
      "00:04                                   Dassault Falcon 20   \n",
      "...                                                    ...   \n",
      "c: 1:00                              Ford 5-AT-B Tri Motor   \n",
      "c: 2:00                                          Boeing 40   \n",
      "c: 9:40                                Cessna 207 Skywagon   \n",
      "c:09:00                         Fokker F-10NAMC YS-11A-202   \n",
      "c:17:00                                       Fairchild 71   \n",
      "\n",
      "                   Registration      cn/In  Aboard  Fatalities  Ground  \\\n",
      "Time                                                                     \n",
      "00:00    NC10809CF-CPC453N8849Q  103274128   134.0       134.0     0.0   \n",
      "00:01                    N94247        104    10.0         1.0     0.0   \n",
      "00:02                    N4855U          0     2.0         2.0     0.0   \n",
      "00:03                    N6004C       2636    55.0        55.0     0.0   \n",
      "00:04                    N125CA        208     2.0         2.0     0.0   \n",
      "...                         ...        ...     ...         ...     ...   \n",
      "c: 1:00                  NC9649   5-AT-002     8.0         8.0     0.0   \n",
      "c: 2:00                  NC5340          0     3.0         3.0     0.0   \n",
      "c: 9:40                  ZK-SEV   20700204     6.0         6.0     0.0   \n",
      "c:09:00            NC9716SX-BBQ       2155    57.0        40.0     0.0   \n",
      "c:17:00                       0        634     4.0         4.0     0.0   \n",
      "\n",
      "                                                   Summary  \n",
      "Time                                                        \n",
      "00:00    The mail plane crashed and burned on a farm.Di...  \n",
      "00:01    Struck trees, hit the ground, and slid 500 ft....  \n",
      "00:02    Pilot misjudged altitude and distance and cras...  \n",
      "00:03    While en route from Cairo to Rome, witnesses o...  \n",
      "00:04    Unable to gain altitude the positioning flight...  \n",
      "...                                                    ...  \n",
      "c: 1:00  Crashed in a thunderstorm after being struck b...  \n",
      "c: 2:00  Crashed into a mountainside at an altitude of ...  \n",
      "c: 9:40  The sightseeing plane hit a mountainside at  a...  \n",
      "c:09:00  The mail plane struck a mountain and burned en...  \n",
      "c:17:00  Crashed into power lines 150 feet above the gr...  \n",
      "\n",
      "[1005 rows x 13 columns]\n"
     ]
    }
   ],
   "source": [
    "print(data_set.groupby('Time').sum())"
   ]
  },
  {
   "cell_type": "code",
   "execution_count": 41,
   "id": "05711951",
   "metadata": {
    "scrolled": true
   },
   "outputs": [
    {
     "data": {
      "text/html": [
       "<div>\n",
       "<style scoped>\n",
       "    .dataframe tbody tr th:only-of-type {\n",
       "        vertical-align: middle;\n",
       "    }\n",
       "\n",
       "    .dataframe tbody tr th {\n",
       "        vertical-align: top;\n",
       "    }\n",
       "\n",
       "    .dataframe thead th {\n",
       "        text-align: right;\n",
       "    }\n",
       "</style>\n",
       "<table border=\"1\" class=\"dataframe\">\n",
       "  <thead>\n",
       "    <tr style=\"text-align: right;\">\n",
       "      <th></th>\n",
       "      <th>index</th>\n",
       "      <th>Aboard</th>\n",
       "      <th>Fatalities</th>\n",
       "      <th>Ground</th>\n",
       "    </tr>\n",
       "  </thead>\n",
       "  <tbody>\n",
       "    <tr>\n",
       "      <th>count</th>\n",
       "      <td>5268.00000</td>\n",
       "      <td>5246.000000</td>\n",
       "      <td>5256.000000</td>\n",
       "      <td>5246.000000</td>\n",
       "    </tr>\n",
       "    <tr>\n",
       "      <th>mean</th>\n",
       "      <td>2633.50000</td>\n",
       "      <td>27.554518</td>\n",
       "      <td>20.068303</td>\n",
       "      <td>1.608845</td>\n",
       "    </tr>\n",
       "    <tr>\n",
       "      <th>std</th>\n",
       "      <td>1520.88494</td>\n",
       "      <td>43.076711</td>\n",
       "      <td>33.199952</td>\n",
       "      <td>53.987827</td>\n",
       "    </tr>\n",
       "    <tr>\n",
       "      <th>min</th>\n",
       "      <td>0.00000</td>\n",
       "      <td>0.000000</td>\n",
       "      <td>0.000000</td>\n",
       "      <td>0.000000</td>\n",
       "    </tr>\n",
       "    <tr>\n",
       "      <th>25%</th>\n",
       "      <td>1316.75000</td>\n",
       "      <td>5.000000</td>\n",
       "      <td>3.000000</td>\n",
       "      <td>0.000000</td>\n",
       "    </tr>\n",
       "    <tr>\n",
       "      <th>50%</th>\n",
       "      <td>2633.50000</td>\n",
       "      <td>13.000000</td>\n",
       "      <td>9.000000</td>\n",
       "      <td>0.000000</td>\n",
       "    </tr>\n",
       "    <tr>\n",
       "      <th>75%</th>\n",
       "      <td>3950.25000</td>\n",
       "      <td>30.000000</td>\n",
       "      <td>23.000000</td>\n",
       "      <td>0.000000</td>\n",
       "    </tr>\n",
       "    <tr>\n",
       "      <th>max</th>\n",
       "      <td>5267.00000</td>\n",
       "      <td>644.000000</td>\n",
       "      <td>583.000000</td>\n",
       "      <td>2750.000000</td>\n",
       "    </tr>\n",
       "  </tbody>\n",
       "</table>\n",
       "</div>"
      ],
      "text/plain": [
       "            index       Aboard   Fatalities       Ground\n",
       "count  5268.00000  5246.000000  5256.000000  5246.000000\n",
       "mean   2633.50000    27.554518    20.068303     1.608845\n",
       "std    1520.88494    43.076711    33.199952    53.987827\n",
       "min       0.00000     0.000000     0.000000     0.000000\n",
       "25%    1316.75000     5.000000     3.000000     0.000000\n",
       "50%    2633.50000    13.000000     9.000000     0.000000\n",
       "75%    3950.25000    30.000000    23.000000     0.000000\n",
       "max    5267.00000   644.000000   583.000000  2750.000000"
      ]
     },
     "execution_count": 41,
     "metadata": {},
     "output_type": "execute_result"
    }
   ],
   "source": [
    "data_set.describe()\n",
    "# data_set.info()"
   ]
  },
  {
   "cell_type": "code",
   "execution_count": 42,
   "id": "621a5165",
   "metadata": {},
   "outputs": [
    {
     "name": "stdout",
     "output_type": "stream",
     "text": [
      "Requirement already satisfied: matplotlib in c:\\users\\deepak oli\\anaconda3\\lib\\site-packages (3.7.2)\n",
      "Requirement already satisfied: contourpy>=1.0.1 in c:\\users\\deepak oli\\anaconda3\\lib\\site-packages (from matplotlib) (1.0.5)\n",
      "Requirement already satisfied: cycler>=0.10 in c:\\users\\deepak oli\\anaconda3\\lib\\site-packages (from matplotlib) (0.11.0)\n",
      "Requirement already satisfied: fonttools>=4.22.0 in c:\\users\\deepak oli\\anaconda3\\lib\\site-packages (from matplotlib) (4.25.0)\n",
      "Requirement already satisfied: kiwisolver>=1.0.1 in c:\\users\\deepak oli\\anaconda3\\lib\\site-packages (from matplotlib) (1.4.4)\n",
      "Requirement already satisfied: numpy>=1.20 in c:\\users\\deepak oli\\anaconda3\\lib\\site-packages (from matplotlib) (1.24.3)\n",
      "Requirement already satisfied: packaging>=20.0 in c:\\users\\deepak oli\\anaconda3\\lib\\site-packages (from matplotlib) (23.1)\n",
      "Requirement already satisfied: pillow>=6.2.0 in c:\\users\\deepak oli\\anaconda3\\lib\\site-packages (from matplotlib) (9.4.0)\n",
      "Requirement already satisfied: pyparsing<3.1,>=2.3.1 in c:\\users\\deepak oli\\anaconda3\\lib\\site-packages (from matplotlib) (3.0.9)\n",
      "Requirement already satisfied: python-dateutil>=2.7 in c:\\users\\deepak oli\\anaconda3\\lib\\site-packages (from matplotlib) (2.8.2)\n",
      "Requirement already satisfied: six>=1.5 in c:\\users\\deepak oli\\anaconda3\\lib\\site-packages (from python-dateutil>=2.7->matplotlib) (1.16.0)\n",
      "Note: you may need to restart the kernel to use updated packages.\n"
     ]
    }
   ],
   "source": [
    "pip install matplotlib"
   ]
  },
  {
   "cell_type": "code",
   "execution_count": 88,
   "id": "89067371",
   "metadata": {},
   "outputs": [
    {
     "name": "stdout",
     "output_type": "stream",
     "text": [
      "644.0\n",
      "0.0\n"
     ]
    }
   ],
   "source": [
    "import matplotlib.pyplot as plt\n",
    "print(data_set['Aboard'].max())\n",
    "print(data_set['Aboard'].min())"
   ]
  },
  {
   "cell_type": "code",
   "execution_count": 89,
   "id": "f69a35e8",
   "metadata": {},
   "outputs": [
    {
     "name": "stdout",
     "output_type": "stream",
     "text": [
      "(array([2311., 1036.,  607.,  324.,  226.,  142.,   96.,   78.,   79.,\n",
      "         45.,   43.,   46.,   33.,   25.,   25.,   21.,   16.,   16.,\n",
      "          9.,    8.]), array([  1.  ,  10.95,  20.9 ,  30.85,  40.8 ,  50.75,  60.7 ,  70.65,\n",
      "        80.6 ,  90.55, 100.5 , 110.45, 120.4 , 130.35, 140.3 , 150.25,\n",
      "       160.2 , 170.15, 180.1 , 190.05, 200.  ]), <BarContainer object of 20 artists>)\n"
     ]
    },
    {
     "data": {
      "image/png": "[encoded data removed]",
      "text/plain": [
       "<Figure size 640x480 with 1 Axes>"
      ]
     },
     "metadata": {},
     "output_type": "display_data"
    }
   ],
   "source": [
    "print(plt.hist(data_set['Aboard'], bins=20, range=(1, 200)))"
   ]
  },
  {
   "cell_type": "code",
   "execution_count": 1,
   "id": "ceefb6dd",
   "metadata": {},
   "outputs": [
    {
     "ename": "NameError",
     "evalue": "name 'data_set' is not defined",
     "output_type": "error",
     "traceback": [
      "\u001b[1;31m---------------------------------------------------------------------------\u001b[0m",
      "\u001b[1;31mNameError\u001b[0m                                 Traceback (most recent call last)",
      "Cell \u001b[1;32mIn[1], line 1\u001b[0m\n\u001b[1;32m----> 1\u001b[0m \u001b[38;5;28mprint\u001b[39m(data_set\u001b[38;5;241m.\u001b[39mcolumns)\n\u001b[0;32m      3\u001b[0m plt\u001b[38;5;241m.\u001b[39mscatter(data_set[\u001b[38;5;124m'\u001b[39m\u001b[38;5;124mFatalities\u001b[39m\u001b[38;5;124m'\u001b[39m] , data_set[\u001b[38;5;124m'\u001b[39m\u001b[38;5;124mAboard\u001b[39m\u001b[38;5;124m'\u001b[39m])\n\u001b[0;32m      4\u001b[0m plt\u001b[38;5;241m.\u001b[39mxlabel(\u001b[38;5;124m'\u001b[39m\u001b[38;5;124mFatalaties\u001b[39m\u001b[38;5;124m'\u001b[39m)\n",
      "\u001b[1;31mNameError\u001b[0m: name 'data_set' is not defined"
     ]
    }
   ],
   "source": [
    "print(data_set.columns)\n",
    "\n",
    "plt.scatter(data_set['Fatalities'] , data_set['Aboard'])\n",
    "plt.xlabel('Fatalaties')\n",
    "plt.ylabel ('Aboard')"
   ]
  },
  {
   "cell_type": "code",
   "execution_count": null,
   "id": "c1619336",
   "metadata": {},
   "outputs": [],
   "source": []
  },
  {
   "cell_type": "code",
   "execution_count": null,
   "id": "17d82097",
   "metadata": {},
   "outputs": [],
   "source": []
  }
 ],
 "metadata": {
  "kernelspec": {
   "display_name": "Python 3 (ipykernel)",
   "language": "python",
   "name": "python3"
  },
  "language_info": {
   "codemirror_mode": {
    "name": "ipython",
    "version": 3
   },
   "file_extension": ".py",
   "mimetype": "text/x-python",
   "name": "python",
   "nbconvert_exporter": "python",
   "pygments_lexer": "ipython3",
   "version": "3.11.5"
  }
 },
 "nbformat": 4,
 "nbformat_minor": 5
}
