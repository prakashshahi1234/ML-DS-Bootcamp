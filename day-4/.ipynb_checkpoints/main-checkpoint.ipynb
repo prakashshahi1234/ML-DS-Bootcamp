{
 "cells": [
  {
   "cell_type": "markdown",
   "id": "1ca8ef03",
   "metadata": {},
   "source": [
    "###  Trying  some Libraries[NumPy , Pandas ...] "
   ]
  },
  {
   "cell_type": "code",
   "execution_count": 6,
   "id": "cd117a01",
   "metadata": {},
   "outputs": [],
   "source": [
    "import numpy as np\n",
    "import pandas as pd"
   ]
  },
  {
   "cell_type": "code",
   "execution_count": 22,
   "id": "937b063c",
   "metadata": {},
   "outputs": [
    {
     "name": "stdout",
     "output_type": "stream",
     "text": [
      "Index(['index', 'Date', 'Time', 'Location', 'Operator', 'Flight #', 'Route',\n",
      "       'Type', 'Registration', 'cn/In', 'Aboard', 'Fatalities', 'Ground',\n",
      "       'Summary'],\n",
      "      dtype='object')\n"
     ]
    }
   ],
   "source": [
    "data_set = pd.read_csv(\"plane_crash.csv\")\n",
    "print((data_set.columns))\n",
    "# print(data_set.head(10))\n",
    "# print(data_set.tail(10))\n",
    "# air_plane = pd.read_csv(\"data-set/ariplane.csv\")\n",
    "# print(air_plane)\n",
    "# print(data_set.describe())\n",
    "# print(data_set.info())\n",
    "# print(data_set.isnull().sum())\n",
    "# pd.value_counts(data_set['Operator']).plot.bar()\n",
    "\n",
    "# df = pd.DataFrame(data_set.groupby(['Ground','Location']))\n",
    "# print(df)\n",
    "# print(data_set.drop(['Location'], axis=1).head())\n",
    "# print(data_set.columns)\n",
    "# print(data_set.drop(range(0,100), axis=0).head())"
   ]
  },
  {
   "cell_type": "code",
   "execution_count": 23,
   "id": "e6ab82c0",
   "metadata": {},
   "outputs": [],
   "source": [
    "#print(data_set.isnull().sum())"
   ]
  },
  {
   "cell_type": "code",
   "execution_count": 29,
   "id": "0a574feb",
   "metadata": {},
   "outputs": [
    {
     "name": "stdout",
     "output_type": "stream",
     "text": [
      "27.554517727792604\n",
      "    index        Date   Time                Operator Flight #  \\\n",
      "0       0  09/17/1908  17:18    Military - U.S. Army      NaN   \n",
      "1       1  07/12/1912  06:30    Military - U.S. Navy      NaN   \n",
      "2       2  08/06/1913    NaN                 Private        -   \n",
      "3       3  09/09/1913  18:30  Military - German Navy      NaN   \n",
      "4       4  10/17/1913  10:30  Military - German Navy      NaN   \n",
      "..    ...         ...    ...                     ...      ...   \n",
      "95     95  07/24/1925    NaN                   CIDNA      NaN   \n",
      "96     96  09/03/1925  05:30    Military - U.S. Navy      NaN   \n",
      "97     97  09/07/1925    NaN                   CIDNA      NaN   \n",
      "98     98  11/14/1925    NaN               Air Union      NaN   \n",
      "99     99  02/12/1926    NaN  US Aerial Mail Service      NaN   \n",
      "\n",
      "                            Route  Aboard  \n",
      "0                   Demonstration     2.0  \n",
      "1                     Test flight     5.0  \n",
      "2                             NaN     1.0  \n",
      "3                             NaN    20.0  \n",
      "4                             NaN    30.0  \n",
      "..                            ...     ...  \n",
      "95                            NaN     1.0  \n",
      "96  Lakehurst, NJ - S.t Louis, MO    43.0  \n",
      "97                            NaN     3.0  \n",
      "98                            NaN     2.0  \n",
      "99                            NaN     1.0  \n",
      "\n",
      "[100 rows x 7 columns]\n"
     ]
    }
   ],
   "source": [
    "print(data_set['Aboard'].mean())\n",
    "print(data_set.drop(['Registration' ,'cn/In' ,'Fatalities' ,'Ground' , 'Summary','Type', 'Location' ,'Flight #'], axis=1).head(100))"
   ]
  }
 ],
 "metadata": {
  "kernelspec": {
   "display_name": "Python 3 (ipykernel)",
   "language": "python",
   "name": "python3"
  },
  "language_info": {
   "codemirror_mode": {
    "name": "ipython",
    "version": 3
   },
   "file_extension": ".py",
   "mimetype": "text/x-python",
   "name": "python",
   "nbconvert_exporter": "python",
   "pygments_lexer": "ipython3",
   "version": "3.11.5"
  }
 },
 "nbformat": 4,
 "nbformat_minor": 5
}
