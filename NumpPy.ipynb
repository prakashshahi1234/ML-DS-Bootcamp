{
 "cells": [
  {
   "cell_type": "markdown",
   "id": "c0b0da9c",
   "metadata": {},
   "source": [
    "\n",
    "# Premium Notes on NumPy\n"
   ]
  },
  {
   "cell_type": "markdown",
   "id": "4855bbba",
   "metadata": {},
   "source": [
    "Introduction:: \n",
    "it is a fundamental package for scientific computation in python."
   ]
  },
  {
   "cell_type": "code",
   "execution_count": 2,
   "id": "c0bb5ba6",
   "metadata": {},
   "outputs": [
    {
     "name": "stdout",
     "output_type": "stream",
     "text": [
      "[[0 1 2]\n",
      " [3 4 5]\n",
      " [6 7 8]]\n",
      "2\n",
      "int32\n",
      "[1.+2.j 2.+0.j 4.+0.j]\n",
      "3.141592653589793\n",
      "0.8939966636005579\n",
      "[ 1.          1.81818182  2.63636364  3.45454545  4.27272727  5.09090909\n",
      "  5.90909091  6.72727273  7.54545455  8.36363636  9.18181818 10.        ]\n"
     ]
    }
   ],
   "source": [
    "import numpy as np\n",
    "\n",
    "mat = np.arange(9)\n",
    "np.dtype('int64')\n",
    "mat = mat.reshape(3,3)\n",
    "\n",
    "\n",
    "print(mat)\n",
    "print(mat.ndim)\n",
    "print(mat.dtype)\n",
    "\n",
    "\n",
    "cmp = np.array([1+2.j,2,4], dtype=complex)\n",
    "print(cmp)\n",
    "\n",
    "\n",
    "from numpy import pi\n",
    "print(pi)\n",
    "\n",
    "print(np.sin(90))\n",
    "\n",
    "print(np.linspace(1,10,12))\n",
    "\n"
   ]
  },
  {
   "cell_type": "code",
   "execution_count": 4,
   "id": "3a0f5225",
   "metadata": {},
   "outputs": [
    {
     "name": "stdout",
     "output_type": "stream",
     "text": [
      "[0 0 0 0 0]\n",
      "0.44050815122600884\n",
      "[1.87585069e-309 1.17119999e+171 3.21613038e-056 8.44740097e+252\n",
      " 2.65141232e+180 9.92152605e+247 2.16209968e+233 2.34584010e-110\n",
      " 6.01347003e-154 6.01347002e-154 6.01347002e-154 6.01347002e-154\n",
      " 6.01347002e-154 6.01347002e-154 6.01347002e-154 6.55490914e-260\n",
      " 4.24399158e-314 8.48798317e-314]\n"
     ]
    }
   ],
   "source": [
    "np.zeros_like([1,2,4])\n",
    "print(np.empty(5, np.int16))\n",
    "\n",
    "rng = np.random.default_rng()\n",
    "\n",
    "print(rng.random())\n",
    "1* rng.random((3, 2)) +10\n",
    "print(np.fromfile('array.npy'))"
   ]
  }
 ],
 "metadata": {
  "kernelspec": {
   "display_name": "Python 3 (ipykernel)",
   "language": "python",
   "name": "python3"
  },
  "language_info": {
   "codemirror_mode": {
    "name": "ipython",
    "version": 3
   },
   "file_extension": ".py",
   "mimetype": "text/x-python",
   "name": "python",
   "nbconvert_exporter": "python",
   "pygments_lexer": "ipython3",
   "version": "3.11.5"
  }
 },
 "nbformat": 4,
 "nbformat_minor": 5
}
