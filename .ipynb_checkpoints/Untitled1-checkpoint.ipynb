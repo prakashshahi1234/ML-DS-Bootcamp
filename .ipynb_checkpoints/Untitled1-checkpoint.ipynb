{
 "cells": [
  {
   "cell_type": "code",
   "execution_count": 4,
   "id": "8f886502",
   "metadata": {},
   "outputs": [
    {
     "name": "stdout",
     "output_type": "stream",
     "text": [
      "taking matrix values\n",
      "enter row of matrix2\n",
      "enter column of matrix2\n",
      "enter value1\n",
      "enter value1\n",
      "enter value1\n",
      "enter value1\n",
      "[[1, 1], [1, 1]]\n"
     ]
    }
   ],
   "source": [
    "    import matrixMul\n",
    "    mat  = matrixMul.takeValue()\n",
    "    row = len(mat)\n",
    "    col = len(mat[0])\n",
    "    print(\"size is \" ,row , col)\n",
    "    result = []\n",
    "    for i in range(row):\n",
    "        row_re = []\n",
    "        for j in range(col):      \n",
    "            dotProduct=0\n",
    "            for k in range(row):\n",
    "                dotProduct = mat[i][k]*mat[k][i]\n",
    "            row_re.append(dotProduct)\n",
    "        result.append(row_re)\n",
    "    print(result)"
   ]
  },
  {
   "cell_type": "markdown",
   "id": "e2d3e518",
   "metadata": {},
   "source": [
    "# "
   ]
  }
 ],
 "metadata": {
  "kernelspec": {
   "display_name": "Python 3 (ipykernel)",
   "language": "python",
   "name": "python3"
  },
  "language_info": {
   "codemirror_mode": {
    "name": "ipython",
    "version": 3
   },
   "file_extension": ".py",
   "mimetype": "text/x-python",
   "name": "python",
   "nbconvert_exporter": "python",
   "pygments_lexer": "ipython3",
   "version": "3.11.5"
  }
 },
 "nbformat": 4,
 "nbformat_minor": 5
}
