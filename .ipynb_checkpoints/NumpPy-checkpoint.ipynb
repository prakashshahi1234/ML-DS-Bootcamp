{
 "cells": [
  {
   "cell_type": "markdown",
   "id": "64daf0b2",
   "metadata": {},
   "source": [
    "#### Prime number testing. "
   ]
  },
  {
   "cell_type": "code",
   "execution_count": 2,
   "id": "16cb6a5d",
   "metadata": {
    "scrolled": false
   },
   "outputs": [
    {
     "name": "stdout",
     "output_type": "stream",
     "text": [
      "True\n",
      "False\n",
      "46\n"
     ]
    }
   ],
   "source": [
    "import prime\n",
    "print(prime.isPrime(2))\n",
    "print(prime.isPrime(100))\n",
    "print(len(prime.prime(1,200)))"
   ]
  },
  {
   "cell_type": "markdown",
   "id": "83637dee",
   "metadata": {},
   "source": [
    "#### Even number checking\n"
   ]
  },
  {
   "cell_type": "code",
   "execution_count": 4,
   "id": "1761aed8",
   "metadata": {},
   "outputs": [
    {
     "name": "stdout",
     "output_type": "stream",
     "text": [
      "True\n",
      "False\n",
      "[10, 12, 14, 16, 18, 20, 22, 24, 26, 28, 30, 32, 34, 36, 38, 40, 42, 44, 46, 48, 50, 52, 54, 56, 58, 60, 62, 64, 66, 68, 70, 72, 74, 76, 78, 80, 82, 84, 86, 88, 90, 92, 94, 96, 98, 100]\n"
     ]
    }
   ],
   "source": [
    "import even\n",
    "print(even.isEven(4))\n",
    "print(even.isEven(5))\n",
    "print(even.even(10,100))"
   ]
  },
  {
   "cell_type": "markdown",
   "id": "a8f91655",
   "metadata": {},
   "source": [
    "### Odd Number checking"
   ]
  },
  {
   "cell_type": "code",
   "execution_count": 3,
   "id": "d47983f4",
   "metadata": {},
   "outputs": [
    {
     "name": "stdout",
     "output_type": "stream",
     "text": [
      "False\n",
      "True\n",
      "[1, 3, 5, 7, 9, 11, 13, 15, 17, 19, 21, 23, 25, 27, 29, 31, 33, 35, 37, 39, 41, 43, 45, 47, 49, 51, 53, 55, 57, 59, 61, 63, 65, 67, 69, 71, 73, 75, 77, 79, 81, 83, 85, 87, 89, 91, 93, 95, 97, 99]\n"
     ]
    }
   ],
   "source": [
    "import odd\n",
    "print(odd.isOdd(4))\n",
    "print(odd.isOdd(5))\n",
    "print(odd.odd(1,100))"
   ]
  },
  {
   "cell_type": "markdown",
   "id": "98ffa3a0",
   "metadata": {},
   "source": [
    "#### Factorial Checking"
   ]
  },
  {
   "cell_type": "code",
   "execution_count": 11,
   "id": "db929ca8",
   "metadata": {
    "scrolled": true
   },
   "outputs": [
    {
     "name": "stdout",
     "output_type": "stream",
     "text": [
      "120\n"
     ]
    }
   ],
   "source": [
    "import factorial\n",
    "print(factorial.fact(5))\n",
    "\n"
   ]
  },
  {
   "cell_type": "markdown",
   "id": "7f2591e0",
   "metadata": {},
   "source": [
    "<h3>String slicing</h3>\n"
   ]
  },
  {
   "cell_type": "code",
   "execution_count": 13,
   "id": "4601f6e5",
   "metadata": {},
   "outputs": [
    {
     "data": {
      "text/plain": [
       "'va'"
      ]
     },
     "execution_count": 13,
     "metadata": {},
     "output_type": "execute_result"
    }
   ],
   "source": [
    "sirName= 'Devasis'\n",
    "sirName[2:4]"
   ]
  },
  {
   "cell_type": "code",
   "execution_count": 21,
   "id": "2fc22523",
   "metadata": {},
   "outputs": [
    {
     "name": "stdout",
     "output_type": "stream",
     "text": [
      "[1, 2, 3, 4, 5]\n",
      "[1, 2, 3, 4, 5]\n"
     ]
    }
   ],
   "source": [
    "list_default = [1,2,3,4,5]\n",
    "list_con =list([1,2,3,4,5])\n",
    "\n",
    "print(list_default)\n",
    "print(list_con)"
   ]
  },
  {
   "cell_type": "markdown",
   "id": "ec7823b5",
   "metadata": {},
   "source": [
    "#### Tuple and List\n"
   ]
  },
  {
   "cell_type": "code",
   "execution_count": 3,
   "id": "73756dd8",
   "metadata": {},
   "outputs": [
    {
     "name": "stdout",
     "output_type": "stream",
     "text": [
      "[1, 2, 3, 4]\n",
      "[1, 2, 3, 4]\n"
     ]
    }
   ],
   "source": [
    "listDefault = [1,2,3,4]\n",
    "listConstructor = list([1,2,3,4])\n",
    "print(listDefault)\n",
    "print(listConstructor)"
   ]
  },
  {
   "cell_type": "markdown",
   "id": "89e2f64a",
   "metadata": {},
   "source": [
    "#### Tuple\n"
   ]
  },
  {
   "cell_type": "code",
   "execution_count": null,
   "id": "0a76e1c6",
   "metadata": {},
   "outputs": [],
   "source": [
    "tuple1 = (1,2,3,4)\n",
    "tupleCon = tuple((1,2,3,4))\n",
    "print(tuple1)\n",
    "print(tupleCon)"
   ]
  }
 ],
 "metadata": {
  "kernelspec": {
   "display_name": "Python 3 (ipykernel)",
   "language": "python",
   "name": "python3"
  },
  "language_info": {
   "codemirror_mode": {
    "name": "ipython",
    "version": 3
   },
   "file_extension": ".py",
   "mimetype": "text/x-python",
   "name": "python",
   "nbconvert_exporter": "python",
   "pygments_lexer": "ipython3",
   "version": "3.11.5"
  }
 },
 "nbformat": 4,
 "nbformat_minor": 5
}
